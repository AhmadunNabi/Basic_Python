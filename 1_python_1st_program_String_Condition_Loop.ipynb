{
 "cells": [
  {
   "cell_type": "markdown",
   "metadata": {},
   "source": [
    "# First python program"
   ]
  },
  {
   "cell_type": "code",
   "execution_count": 1,
   "metadata": {},
   "outputs": [
    {
     "name": "stdout",
     "output_type": "stream",
     "text": [
      "15.205295600000001\n",
      "15.205295600000001\n",
      "32.169881600000004\n"
     ]
    }
   ],
   "source": [
    "pi = 3.14159\n",
    "radius = 2.2\n",
    "\n",
    "# area of circle equation <- this is a comment\n",
    "area = pi*(radius**2)\n",
    "print(area)\n",
    "\n",
    "# change values of radius <- another comment\n",
    "# use comments to help others understand what you are doing in code\n",
    "radius = radius + 1\n",
    "print(area)     # area doesn't change\n",
    "area = pi*(radius**2)\n",
    "print(area)"
   ]
  },
  {
   "cell_type": "markdown",
   "metadata": {},
   "source": [
    "## Strings"
   ]
  },
  {
   "cell_type": "code",
   "execution_count": 3,
   "metadata": {},
   "outputs": [
    {
     "name": "stdout",
     "output_type": "stream",
     "text": [
      "Hi thereRifat\n",
      "Hi there Rifat\n",
      "Hi there Rifat\n"
     ]
    }
   ],
   "source": [
    "hello = 'Hi there'\n",
    "name = 'Rifat'\n",
    "greetings = hello+name\n",
    "print(greetings)\n",
    "\n",
    "greetings = hello+\" \"+name\n",
    "print(greetings)\n",
    "\n",
    "#or\n",
    "hello = 'Hi there'\n",
    "name = ' Rifat'\n",
    "greetings = hello+name\n",
    "print(greetings)"
   ]
  },
  {
   "cell_type": "code",
   "execution_count": 4,
   "metadata": {},
   "outputs": [
    {
     "name": "stdout",
     "output_type": "stream",
     "text": [
      "Hi there  Rifat  Rifat  Rifat\n"
     ]
    }
   ],
   "source": [
    "funny = hello + (\" \" + name)*3\n",
    "print(funny)"
   ]
  },
  {
   "cell_type": "markdown",
   "metadata": {},
   "source": [
    "## Output"
   ]
  },
  {
   "cell_type": "code",
   "execution_count": 5,
   "metadata": {},
   "outputs": [
    {
     "name": "stdout",
     "output_type": "stream",
     "text": [
      "My favourite number is 1 . x = 1\n",
      "My favourite number is1.x =1\n",
      "My favourite number is 1. x = 1\n"
     ]
    }
   ],
   "source": [
    "x = 1\n",
    "x_str = str(x)\n",
    "print('My favourite number is',x,'.','x =',x)\n",
    "\n",
    "print('My favourite number is' + x_str+'.'+'x ='+x_str)\n",
    "print('My favourite number is ' + x_str+'. '+'x = '+x_str)"
   ]
  },
  {
   "cell_type": "markdown",
   "metadata": {},
   "source": [
    "## input"
   ]
  },
  {
   "cell_type": "code",
   "execution_count": 6,
   "metadata": {},
   "outputs": [
    {
     "name": "stdout",
     "output_type": "stream",
     "text": [
      "Type anything3\n",
      "33333\n",
      "Type a number4\n",
      "12\n"
     ]
    }
   ],
   "source": [
    "text = input('Type anything')\n",
    "print(5*text)\n",
    "\n",
    "num = int(input('Type a number'))\n",
    "print(3*num)"
   ]
  },
  {
   "cell_type": "markdown",
   "metadata": {},
   "source": [
    "## Conditional / branching"
   ]
  },
  {
   "cell_type": "code",
   "execution_count": 7,
   "metadata": {},
   "outputs": [
    {
     "name": "stdout",
     "output_type": "stream",
     "text": [
      "Enter a number for x: 4\n",
      "Enter a number for y: 4\n",
      "x and y are equal number\n",
      "therefore, x/y is 1.0\n"
     ]
    }
   ],
   "source": [
    "x = float(input('Enter a number for x: '))\n",
    "y = float(input('Enter a number for y: '))\n",
    "\n",
    "if x==y:\n",
    "    print('x and y are equal number')\n",
    "    if y!=0:                            # nested condition\n",
    "        print('therefore, x/y is', x/y)\n",
    "elif x>y:\n",
    "    print('x is greater than y')\n",
    "elif x<y:\n",
    "    print('y is greater than x')"
   ]
  },
  {
   "cell_type": "markdown",
   "metadata": {},
   "source": [
    "## Remainder"
   ]
  },
  {
   "cell_type": "code",
   "execution_count": 8,
   "metadata": {},
   "outputs": [
    {
     "name": "stdout",
     "output_type": "stream",
     "text": [
      "Enter a number : 4\n",
      "The number is even\n"
     ]
    }
   ],
   "source": [
    "num = int(input('Enter a number : '))\n",
    "if num%2 == 0:\n",
    "    print('The number is even')\n",
    "elif num%2 != 0:\n",
    "    print('The number is odd')"
   ]
  },
  {
   "cell_type": "markdown",
   "metadata": {},
   "source": [
    "#### While loop"
   ]
  },
  {
   "cell_type": "code",
   "execution_count": 9,
   "metadata": {},
   "outputs": [
    {
     "name": "stdout",
     "output_type": "stream",
     "text": [
      "If you want to add two number enter \"sum\": 3\n",
      "If you want to count numbers enter a positive int number 3\n",
      "0\n",
      "1\n",
      "2\n",
      "3\n"
     ]
    }
   ],
   "source": [
    "enter = input('If you want to add two number enter \"sum\": ')\n",
    "\n",
    "if enter == 'sum':\n",
    "    num1 = float(input('Enter a number: '))\n",
    "    num2 = float(input('Enter another number: '))\n",
    "    print('The sum : ', num1+num2)\n",
    "    \n",
    "\n",
    "num = int(input('If you want to count numbers enter a positive int number '))\n",
    "n=0\n",
    "while num > 0 and n < num+1:\n",
    "    print(n)\n",
    "    n+=1\n"
   ]
  },
  {
   "cell_type": "markdown",
   "metadata": {},
   "source": [
    "## For loop"
   ]
  },
  {
   "cell_type": "code",
   "execution_count": 10,
   "metadata": {},
   "outputs": [
    {
     "name": "stdout",
     "output_type": "stream",
     "text": [
      "Enter a positive int number number: 3\n",
      "0\n",
      "1\n",
      "2\n",
      "3\n"
     ]
    }
   ],
   "source": [
    "n = int(input('Enter a positive int number number: '))\n",
    "\n",
    "for i in range(n+1):\n",
    "    print(i)"
   ]
  },
  {
   "cell_type": "code",
   "execution_count": 11,
   "metadata": {},
   "outputs": [
    {
     "name": "stdout",
     "output_type": "stream",
     "text": [
      "the sum:  6\n",
      "Anather sum : 12\n",
      "5\n"
     ]
    }
   ],
   "source": [
    "# For loop example\n",
    "the_sum = 0\n",
    "for i in range(4):\n",
    "    the_sum+= i\n",
    "print('the sum: ',the_sum)\n",
    "\n",
    "the_sum = 0\n",
    "for i in range(3,6):\n",
    "    the_sum += i\n",
    "print('Anather sum :', the_sum)\n",
    "\n",
    "# Use of break for for loop\n",
    "the_sum = 0\n",
    "for i in range(5,11,2):\n",
    "    the_sum += i\n",
    "    if the_sum == 5:\n",
    "        break\n",
    "    the_sum += 1\n",
    "print(the_sum)"
   ]
  },
  {
   "cell_type": "markdown",
   "metadata": {},
   "source": [
    "## Perfect square"
   ]
  },
  {
   "cell_type": "code",
   "execution_count": 18,
   "metadata": {},
   "outputs": [
    {
     "name": "stdout",
     "output_type": "stream",
     "text": [
      "Please enter a integer number: 4\n",
      "Square root of 4 is 2\n"
     ]
    }
   ],
   "source": [
    "ans = 0 \n",
    "neg_flag = False\n",
    "num = int(input('Please enter a integer number: '))\n",
    "if num<ans:\n",
    "    neg_flag =True\n",
    "while ans**2<num:\n",
    "    ans = ans + 1\n",
    "if ans**2 == num:\n",
    "    print(\"Square root of\", num,\"is\",ans)\n",
    "else:\n",
    "    print(num,\"is not an perfect square\")\n",
    "    if neg_flag:\n",
    "        print(\"The num is negative :(\")"
   ]
  },
  {
   "cell_type": "code",
   "execution_count": 19,
   "metadata": {},
   "outputs": [],
   "source": [
    "# If negative number entered make a complex square root\n",
    "def nnum(num):\n",
    "    \n",
    "    ans = 0 \n",
    "    neg_flag = False\n",
    "    if num<ans:\n",
    "        neg_flag =True\n",
    "    while ans**2<abs(num):\n",
    "        ans = ans + 1\n",
    "    if ans**2 == num:\n",
    "        print(\"Square root of\", num,\"is\",ans)\n",
    "    elif ans**2 == abs(num):\n",
    "        ans = str(ans)\n",
    "        print(\"Suqare root of\",num,\"is a complex number. Square root of\", num,\"is \"+ans+'i')\n",
    "    else:\n",
    "        print(num,\"is not an perfect square\")"
   ]
  },
  {
   "cell_type": "code",
   "execution_count": 20,
   "metadata": {},
   "outputs": [
    {
     "name": "stdout",
     "output_type": "stream",
     "text": [
      "Suqare root of -9 is a complex number. Square root of -9 is 3i\n"
     ]
    }
   ],
   "source": [
    "nnum(-9)"
   ]
  },
  {
   "cell_type": "markdown",
   "metadata": {},
   "source": [
    "### For loop over string"
   ]
  },
  {
   "cell_type": "code",
   "execution_count": 30,
   "metadata": {},
   "outputs": [
    {
     "name": "stdout",
     "output_type": "stream",
     "text": [
      "Please enter a string : hello dude\n",
      "There is  2 a or e.\n"
     ]
    }
   ],
   "source": [
    "s = str(input('Please enter a string : '))\n",
    "j=0\n",
    "for i in range(len(s)): \n",
    "    if s[i] == 'a' or s[i] =='e':\n",
    "        j+=1\n",
    "if j>0:\n",
    "    print('There is ',j,'a or e.')"
   ]
  },
  {
   "cell_type": "code",
   "execution_count": 31,
   "metadata": {},
   "outputs": [
    {
     "name": "stdout",
     "output_type": "stream",
     "text": [
      "There is an a or e\n"
     ]
    }
   ],
   "source": [
    "for char in s:\n",
    "    if char=='a' or char=='e':\n",
    "        print('There is an a or e')\n",
    "        break"
   ]
  },
  {
   "cell_type": "markdown",
   "metadata": {},
   "source": [
    "## While loop over string"
   ]
  },
  {
   "cell_type": "code",
   "execution_count": 32,
   "metadata": {},
   "outputs": [
    {
     "name": "stdout",
     "output_type": "stream",
     "text": [
      "I will cheer for you. Type a word: rifat\n",
      "How many times I will call the word: 3\n",
      "Give me an r!\n",
      "Give me an i!\n",
      "Give me an f!\n",
      "Give me an a!\n",
      "Give me a t!\n",
      "rifat!!\n",
      "rifat!!\n",
      "rifat!!\n"
     ]
    }
   ],
   "source": [
    "an_letter = \"aefhilmnorsxAEFHILMNORSX\"\n",
    "word = input(\"I will cheer for you. Type a word: \")\n",
    "time = int(input(\"How many times I will call the word: \"))\n",
    "i=0\n",
    "j=1\n",
    "while i<len(word):\n",
    "    letter = word[i]\n",
    "    if letter in an_letter:\n",
    "        print('Give me an '+letter+'!')\n",
    "    else:\n",
    "        print('Give me a '+letter+'!')\n",
    "    i += 1\n",
    "while j <= time:\n",
    "    print(word+'!!')\n",
    "    j+=1\n",
    "    "
   ]
  },
  {
   "cell_type": "markdown",
   "metadata": {},
   "source": [
    "## Cube root"
   ]
  },
  {
   "cell_type": "code",
   "execution_count": 33,
   "metadata": {},
   "outputs": [
    {
     "name": "stdout",
     "output_type": "stream",
     "text": [
      "Enter an integer number: -27\n",
      "The root cube of -27 is -3\n"
     ]
    }
   ],
   "source": [
    "num = int(input('Enter an integer number: '))\n",
    "if abs(num)>0:\n",
    "    for i in range(abs(num)):\n",
    "        if i**3==abs(num):\n",
    "            break\n",
    "if i**3==num:\n",
    "    print('The root cube of',num,'is',i)\n",
    "elif i**3==abs(num):\n",
    "    print('The root cube of',num,'is',-i)\n",
    "else:\n",
    "    print('the number is not a perfect cube number')"
   ]
  },
  {
   "cell_type": "code",
   "execution_count": 34,
   "metadata": {},
   "outputs": [
    {
     "name": "stdout",
     "output_type": "stream",
     "text": [
      "Enter an integer number: -64\n",
      "The cube root of -64 is -4\n"
     ]
    }
   ],
   "source": [
    "# While loop\n",
    "num = int(input('Enter an integer number: '))\n",
    "ans = 0\n",
    "flag = False\n",
    "\n",
    "while ans**3<abs(num):\n",
    "    ans+=1\n",
    "if ans**3 == num:\n",
    "    print(\"The cube root of\",num,'is',ans)\n",
    "elif ans**3 == abs(num):\n",
    "    print(\"The cube root of\",num,'is',-ans)\n",
    "else:\n",
    "    print('The number is not a perfect cube')"
   ]
  },
  {
   "cell_type": "code",
   "execution_count": 36,
   "metadata": {},
   "outputs": [
    {
     "name": "stdout",
     "output_type": "stream",
     "text": [
      "-125\n",
      "Cube root of -125 is -5\n"
     ]
    }
   ],
   "source": [
    "cube = int(input())\n",
    "#cube = 8120601\n",
    "\n",
    "for guess in range(abs(cube)+1):\n",
    "   # passed all potential cube roots\n",
    "   if guess**3 == abs(cube):\n",
    "       # no need to keep searching\n",
    "       break\n",
    "\n",
    "if guess**3 != abs(cube):\n",
    "    print(cube, 'is not a perfect cube')\n",
    "\n",
    "else:\n",
    "    if cube < 0:\n",
    "        guess = -guess\n",
    "    print('Cube root of ' + str(cube) + ' is ' + str(guess))"
   ]
  },
  {
   "cell_type": "code",
   "execution_count": 37,
   "metadata": {},
   "outputs": [
    {
     "name": "stdout",
     "output_type": "stream",
     "text": [
      "please enter a number: -125\n",
      "Cube root of -125 is -5\n"
     ]
    }
   ],
   "source": [
    "# Most efficient code\n",
    "num = int(input('please enter a number: '))\n",
    "\n",
    "for guess in range(abs(num)):\n",
    "    if guess**3 == abs(num):\n",
    "        break\n",
    "        \n",
    "if guess**3 != abs(num):\n",
    "    print('The number is not a perfect cube')\n",
    "\n",
    "elif num<0:\n",
    "        guess = -guess\n",
    "        \n",
    "print(\"Cube root of\",num,'is',guess)"
   ]
  },
  {
   "cell_type": "markdown",
   "metadata": {},
   "source": [
    "### Approximate cube root"
   ]
  },
  {
   "cell_type": "code",
   "execution_count": 41,
   "metadata": {},
   "outputs": [
    {
     "name": "stdout",
     "output_type": "stream",
     "text": [
      "Enter a number: 26\n",
      "There is no close cube root of  26\n",
      "The cube root of 26 is 2.9699999999999807\n"
     ]
    }
   ],
   "source": [
    "num = int(input('Enter a number: '))\n",
    "limit = 0.01\n",
    "aprox_v = 0.0\n",
    "incriment = 0.01\n",
    "while (aprox_v**3)-abs(num)<=limit:\n",
    "    aprox_v = aprox_v+incriment\n",
    "if (aprox_v**3)-abs(num) >= limit:\n",
    "    print('There is no close cube root of ',num)\n",
    "elif num<0:\n",
    "    aprox_v = -aprox_v\n",
    "print('The cube root of',num,'is',aprox_v)"
   ]
  },
  {
   "cell_type": "markdown",
   "metadata": {},
   "source": [
    "### Bisection cube root"
   ]
  },
  {
   "cell_type": "code",
   "execution_count": 8,
   "metadata": {},
   "outputs": [
    {
     "name": "stdout",
     "output_type": "stream",
     "text": [
      "Please enter a number: 27\n",
      "3.000091552734375\n"
     ]
    }
   ],
   "source": [
    "num = int(input('Please enter a number: '))\n",
    "limit = 0.01\n",
    "low = 0\n",
    "high = num\n",
    "guess = (low + num)/2\n",
    "\n",
    "while abs(guess**3-num) >= limit:\n",
    "    \n",
    "    if guess**3>abs(num):\n",
    "        high = guess\n",
    "    elif guess**3<abs(num):\n",
    "        low = guess\n",
    "    guess = (high+low)/2\n",
    "print(guess)\n",
    "        "
   ]
  },
  {
   "cell_type": "code",
   "execution_count": null,
   "metadata": {},
   "outputs": [],
   "source": []
  }
 ],
 "metadata": {
  "kernelspec": {
   "display_name": "Python 3",
   "language": "python",
   "name": "python3"
  },
  "language_info": {
   "codemirror_mode": {
    "name": "ipython",
    "version": 3
   },
   "file_extension": ".py",
   "mimetype": "text/x-python",
   "name": "python",
   "nbconvert_exporter": "python",
   "pygments_lexer": "ipython3",
   "version": "3.7.6"
  }
 },
 "nbformat": 4,
 "nbformat_minor": 4
}
