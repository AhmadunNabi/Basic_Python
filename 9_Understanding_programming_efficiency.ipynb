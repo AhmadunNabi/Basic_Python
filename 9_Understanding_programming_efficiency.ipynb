{
 "cells": [
  {
   "cell_type": "markdown",
   "metadata": {},
   "source": [
    "## BIg O() notation\n",
    "* O(1) denotes constant running time.\n",
    "* O(log n) denotes logarithmic running time.\n",
    "* O(n) denotes linear running time.\n",
    "* O(n log n) denotes log-linear running time.\n",
    "* O(n^c) denotes polynomial running time (c is a constant).\n",
    "* O(c^n) denotes exponential running time (c is a nstant being raised to a power based on size of input)."
   ]
  },
  {
   "cell_type": "markdown",
   "metadata": {},
   "source": [
    "## Bisection Search"
   ]
  },
  {
   "cell_type": "code",
   "execution_count": 1,
   "metadata": {},
   "outputs": [],
   "source": [
    "\n",
    "def bisection(L,e):\n",
    "    L = sorted(L)\n",
    "    div = 1\n",
    "    for i in range(len(L)):\n",
    "        if e not in L:\n",
    "            print(False)\n",
    "            break\n",
    "        else:\n",
    "            if L[div]>e:\n",
    "                L = L[:div]\n",
    "                div = len(L)//2\n",
    "            elif L[div]<e:\n",
    "                L = L[div:]\n",
    "                div = len(L)//2\n",
    "            elif L[div]==e:\n",
    "                print(True)\n",
    "                break\n",
    "\n",
    "        \n",
    "            "
   ]
  },
  {
   "cell_type": "code",
   "execution_count": 2,
   "metadata": {},
   "outputs": [
    {
     "name": "stdout",
     "output_type": "stream",
     "text": [
      "True\n"
     ]
    }
   ],
   "source": [
    "bisection([1,2,3,4],4)"
   ]
  },
  {
   "cell_type": "code",
   "execution_count": 3,
   "metadata": {},
   "outputs": [],
   "source": [
    "def bi_section(L,e):\n",
    "    div = len(L)//2\n",
    "    if L==[] or e not in L:\n",
    "        return False\n",
    "    elif L[div] == e:\n",
    "        return True\n",
    "    else:\n",
    "        if L[div]>e:\n",
    "            L = L[:div]\n",
    "            return bi_section(L,e)\n",
    "        else:\n",
    "            return bi_section(L[div:],e)            "
   ]
  },
  {
   "cell_type": "markdown",
   "metadata": {},
   "source": [
    "Here each time we are copying list. So, the order will be n+log(n). Finally linear. So, If we move the pointer instead of copying, then increasing of time will be logrithmic."
   ]
  },
  {
   "cell_type": "code",
   "execution_count": 4,
   "metadata": {},
   "outputs": [
    {
     "name": "stdout",
     "output_type": "stream",
     "text": [
      "False\n"
     ]
    }
   ],
   "source": [
    "bisection([1,2,3,4],5)"
   ]
  },
  {
   "cell_type": "code",
   "execution_count": 5,
   "metadata": {},
   "outputs": [],
   "source": [
    "def bisect_search2(L, e):\n",
    "    L = sorted(L)\n",
    "    def bisect_search_helper(L, e, low, high):\n",
    "        print('low: ' + str(low) + '; high: ' + str(high))  #added to visualize\n",
    "        if high == low:\n",
    "            return L[low] == e\n",
    "        mid = (low + high)//2\n",
    "        if L[mid] == e:\n",
    "            return True\n",
    "        elif L[mid] > e:\n",
    "            if low == mid: #nothing left to search\n",
    "                return False\n",
    "            else:\n",
    "                return bisect_search_helper(L, e, low, mid - 1)\n",
    "        else:\n",
    "            return bisect_search_helper(L, e, mid + 1, high)\n",
    "        \n",
    "    if len(L) == 0:\n",
    "        return False\n",
    "    else:\n",
    "        return bisect_search_helper(L, e, 0, len(L) - 1)"
   ]
  },
  {
   "cell_type": "code",
   "execution_count": 6,
   "metadata": {},
   "outputs": [
    {
     "name": "stdout",
     "output_type": "stream",
     "text": [
      "low: 0; high: 11\n",
      "low: 6; high: 11\n",
      "low: 9; high: 11\n",
      "low: 11; high: 11\n",
      "False\n"
     ]
    }
   ],
   "source": [
    "testList = [1,2,455,4,34,23,4,5,4,35,35,54,]\n",
    "\n",
    "    \n",
    "print(bisect_search2(testList, 76))"
   ]
  },
  {
   "cell_type": "code",
   "execution_count": 7,
   "metadata": {},
   "outputs": [],
   "source": [
    "def bisection(L,e):\n",
    "    L = sorted(L)\n",
    "    def bisection_assistant(L,e,low,high):\n",
    "        if low == high:\n",
    "            return L[low] == e\n",
    "        mid = (low+high)//2\n",
    "        if L[mid] == e:\n",
    "            return True\n",
    "        elif L[mid]>e:\n",
    "            if mid == low:\n",
    "                return False\n",
    "            else:\n",
    "                return bisection_assistant(L,e, low, mid-1)\n",
    "        else:\n",
    "            return bisection_assistant(L,e,mid+1,high)\n",
    "    if len(L) == 0:\n",
    "        return False\n",
    "    else:\n",
    "        bisection_assistant(L,e,0,len(L)-1)\n",
    "        "
   ]
  },
  {
   "cell_type": "markdown",
   "metadata": {},
   "source": [
    "## Linear search on unsorted list"
   ]
  },
  {
   "cell_type": "code",
   "execution_count": 8,
   "metadata": {},
   "outputs": [],
   "source": [
    "def linear_search(L,e):\n",
    "    found = False\n",
    "    for i in range(len(L)):\n",
    "        if L[i] == e:\n",
    "            found = True\n",
    "    \n",
    "    return found\n",
    "    "
   ]
  },
  {
   "cell_type": "code",
   "execution_count": 9,
   "metadata": {},
   "outputs": [
    {
     "data": {
      "text/plain": [
       "True"
      ]
     },
     "execution_count": 9,
     "metadata": {},
     "output_type": "execute_result"
    }
   ],
   "source": [
    "linear_search([1,2,3,4],4)"
   ]
  },
  {
   "cell_type": "markdown",
   "metadata": {},
   "source": [
    "Must look through all elements to decide it’s not there."
   ]
  },
  {
   "cell_type": "markdown",
   "metadata": {},
   "source": [
    "## Complexity of bubble sort"
   ]
  },
  {
   "cell_type": "code",
   "execution_count": 10,
   "metadata": {},
   "outputs": [],
   "source": [
    "def bubble(L):\n",
    "    swap = False\n",
    "    while not swap:\n",
    "        swap = True\n",
    "        for i in range(1,len(L)):\n",
    "            if L[i-1] > L[i]:\n",
    "                swap = False\n",
    "                val = L[i-1]\n",
    "                L[i-1] = L[i]\n",
    "                L[i] = val\n",
    "    return L        "
   ]
  },
  {
   "cell_type": "code",
   "execution_count": 11,
   "metadata": {},
   "outputs": [
    {
     "data": {
      "text/plain": [
       "[1, 2, 3, 4, 5]"
      ]
     },
     "execution_count": 11,
     "metadata": {},
     "output_type": "execute_result"
    }
   ],
   "source": [
    "L=[3,2,1,5,4]\n",
    "bubble(L)"
   ]
  },
  {
   "cell_type": "markdown",
   "metadata": {},
   "source": [
    "It's going to be order n^2. Because of nested loop"
   ]
  },
  {
   "cell_type": "markdown",
   "metadata": {},
   "source": [
    "## Complexity of selection sort"
   ]
  },
  {
   "cell_type": "code",
   "execution_count": 12,
   "metadata": {},
   "outputs": [],
   "source": [
    "def selection_sort(L):\n",
    "    suffixSt = 0\n",
    "    while suffixSt!=len(L):\n",
    "        for i in range(suffixSt,len(L)):\n",
    "            if L[i]<L[suffixSt]:\n",
    "                L[i],L[suffixSt] = L[suffixSt],L[i]\n",
    "        suffixSt+=1"
   ]
  },
  {
   "cell_type": "markdown",
   "metadata": {},
   "source": [
    "It's also going to be an order of n^2. Because of nested loop"
   ]
  },
  {
   "cell_type": "code",
   "execution_count": 13,
   "metadata": {},
   "outputs": [
    {
     "data": {
      "text/plain": [
       "[1, 2, 3, 4, 5]"
      ]
     },
     "execution_count": 13,
     "metadata": {},
     "output_type": "execute_result"
    }
   ],
   "source": [
    "L=[3,2,1,5,4]\n",
    "selection_sort(L)\n",
    "L"
   ]
  },
  {
   "cell_type": "markdown",
   "metadata": {},
   "source": [
    "## Most efficient sorting Algorithm: Merge sort\n",
    "**Devide and conquer**"
   ]
  },
  {
   "cell_type": "code",
   "execution_count": 14,
   "metadata": {},
   "outputs": [
    {
     "name": "stdout",
     "output_type": "stream",
     "text": [
      "merge sort: [1, 3, 5, 7]\n",
      "merge sort: [1, 3]\n",
      "merge sort: [1]\n",
      "merge sort: [3]\n",
      "merge: [1]&[3] to [1, 3]\n",
      "merge sort: [5, 7]\n",
      "merge sort: [5]\n",
      "merge sort: [7]\n",
      "merge: [5]&[7] to [5, 7]\n",
      "merge: [1, 3]&[5, 7] to [1, 3, 5, 7]\n"
     ]
    },
    {
     "data": {
      "text/plain": [
       "[1, 3, 5, 7]"
      ]
     },
     "execution_count": 14,
     "metadata": {},
     "output_type": "execute_result"
    }
   ],
   "source": [
    "def merge(left, right):\n",
    "    result = []\n",
    "    i,j = 0,0\n",
    "    while i < len(left) and j < len(right):\n",
    "        if left[i] < right[j]:\n",
    "            result.append(left[i])\n",
    "            i += 1\n",
    "        else:\n",
    "            result.append(right[j])\n",
    "            j += 1\n",
    "    while (i < len(left)):\n",
    "        result.append(left[i])\n",
    "        i += 1\n",
    "    while (j < len(right)):\n",
    "        result.append(right[j])\n",
    "        j += 1\n",
    "    print('merge: ' + str(left) + '&' + str(right) + ' to ' +str(result))\n",
    "    return result\n",
    "def merge_sort(L):\n",
    "    print('merge sort: ' + str(L))\n",
    "    if len(L) < 2:\n",
    "        return L[:]\n",
    "    else:\n",
    "        middle = len(L)//2\n",
    "        left = merge_sort(L[:middle])\n",
    "        right = merge_sort(L[middle:])\n",
    "        return merge(left, right)\n",
    "        \n",
    "testList = [1,3,5,7]\n",
    "merge_sort(testList)"
   ]
  }
 ],
 "metadata": {
  "kernelspec": {
   "display_name": "Python 3",
   "language": "python",
   "name": "python3"
  },
  "language_info": {
   "codemirror_mode": {
    "name": "ipython",
    "version": 3
   },
   "file_extension": ".py",
   "mimetype": "text/x-python",
   "name": "python",
   "nbconvert_exporter": "python",
   "pygments_lexer": "ipython3",
   "version": "3.7.6"
  }
 },
 "nbformat": 4,
 "nbformat_minor": 4
}
