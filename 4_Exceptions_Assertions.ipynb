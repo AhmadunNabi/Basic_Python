{
 "cells": [
  {
   "cell_type": "markdown",
   "metadata": {},
   "source": [
    "### Exceptions and input"
   ]
  },
  {
   "cell_type": "code",
   "execution_count": 1,
   "metadata": {},
   "outputs": [
    {
     "name": "stdout",
     "output_type": "stream",
     "text": [
      "Enter a number: 3\n",
      "Enter another number4\n",
      "num1/num2 0.75\n"
     ]
    }
   ],
   "source": [
    "num1 = int(input('Enter a number: '))\n",
    "num2 = int(input('Enter another number'))\n",
    "print('num1/num2',num1/num2)"
   ]
  },
  {
   "cell_type": "code",
   "execution_count": 2,
   "metadata": {},
   "outputs": [
    {
     "name": "stdout",
     "output_type": "stream",
     "text": [
      "Enter a number: 4\n",
      "Enter another number5\n",
      "num1/num2 0.8\n"
     ]
    }
   ],
   "source": [
    "try:\n",
    "    num1 = int(input('Enter a number: '))\n",
    "    num2 = int(input('Enter another number'))\n",
    "    print('num1/num2',num1/num2)\n",
    "except:\n",
    "    print('Bug in user input.')"
   ]
  },
  {
   "cell_type": "code",
   "execution_count": 3,
   "metadata": {},
   "outputs": [
    {
     "name": "stdout",
     "output_type": "stream",
     "text": [
      "Give me a number: 5\n",
      "Give me another number: 5\n",
      "a/b 1.0\n",
      "a-b 0\n"
     ]
    }
   ],
   "source": [
    "# Seperate except clauses\n",
    "try:\n",
    "    a = int(input('Give me a number: '))\n",
    "    b = int(input('Give me another number: '))\n",
    "    print('a/b',a/b)\n",
    "    print('a-b',a-b)\n",
    "except ValueError:\n",
    "    print('Could not convert to a number')\n",
    "except ZeroDivisionError:\n",
    "    print(\"Can't divide by zero\")\n",
    "except:\n",
    "    print(\"Something went very wrong\")"
   ]
  },
  {
   "cell_type": "markdown",
   "metadata": {},
   "source": [
    "### Raising an exception"
   ]
  },
  {
   "cell_type": "code",
   "execution_count": 4,
   "metadata": {},
   "outputs": [],
   "source": [
    "def ratio(L1,L2):\n",
    "    \n",
    "    ratio = []\n",
    "    for index in range(len(L1)):\n",
    "        try:\n",
    "            ratio.append(L1[index]/L2[index])\n",
    "        except ZeroDivisionError:\n",
    "            ratio.append('NaN') # Not a number\n",
    "        except:\n",
    "            raise ValueError ('ratios called with bad argument')\n",
    "    return ratio"
   ]
  },
  {
   "cell_type": "code",
   "execution_count": 5,
   "metadata": {},
   "outputs": [
    {
     "data": {
      "text/plain": [
       "[0.5, 1.0]"
      ]
     },
     "execution_count": 5,
     "metadata": {},
     "output_type": "execute_result"
    }
   ],
   "source": [
    "ratio([1,3],[2,3])"
   ]
  },
  {
   "cell_type": "markdown",
   "metadata": {},
   "source": [
    "### Another example\n",
    "Assume we are given a class list for a subject: each entry is a list of two parts\n",
    "* a list of first and last name for a student.\n",
    "* a list of grades on assignments."
   ]
  },
  {
   "cell_type": "code",
   "execution_count": 6,
   "metadata": {},
   "outputs": [
    {
     "data": {
      "text/plain": [
       "[[['peter', 'parker'], [80.0, 70.0, 85.0], 78.33333333333333],\n",
       " [['bruce', 'wayne'], [100.0, 80.0, 74.0], 84.66666666666667]]"
      ]
     },
     "execution_count": 6,
     "metadata": {},
     "output_type": "execute_result"
    }
   ],
   "source": [
    "\n",
    "def avg(fun):        # Function to find a average of a list\n",
    "    return sum(fun)/len(fun)\n",
    "\n",
    "def get_starts(class_lists):\n",
    "    new_list = []\n",
    "    for i in class_lists:\n",
    "        new_list.append([i[0],i[1], avg(i[1])])\n",
    "    return new_list\n",
    "get_starts([[['peter', 'parker'], [80.0, 70.0, 85.0]], [['bruce', 'wayne'], [100.0, 80.0, 74.0]]])"
   ]
  },
  {
   "cell_type": "code",
   "execution_count": 7,
   "metadata": {},
   "outputs": [
    {
     "ename": "ZeroDivisionError",
     "evalue": "division by zero",
     "output_type": "error",
     "traceback": [
      "\u001b[0;31m---------------------------------------------------------------------------\u001b[0m",
      "\u001b[0;31mZeroDivisionError\u001b[0m                         Traceback (most recent call last)",
      "\u001b[0;32m<ipython-input-7-10ed8d252c34>\u001b[0m in \u001b[0;36m<module>\u001b[0;34m\u001b[0m\n\u001b[1;32m      4\u001b[0m               \u001b[0;34m[\u001b[0m\u001b[0;34m[\u001b[0m\u001b[0;34m'captain'\u001b[0m\u001b[0;34m,\u001b[0m \u001b[0;34m'america'\u001b[0m\u001b[0;34m]\u001b[0m\u001b[0;34m,\u001b[0m \u001b[0;34m[\u001b[0m\u001b[0;36m8.0\u001b[0m\u001b[0;34m,\u001b[0m\u001b[0;36m10.0\u001b[0m\u001b[0;34m,\u001b[0m\u001b[0;36m96.0\u001b[0m\u001b[0;34m]\u001b[0m\u001b[0;34m]\u001b[0m\u001b[0;34m,\u001b[0m\u001b[0;34m\u001b[0m\u001b[0;34m\u001b[0m\u001b[0m\n\u001b[1;32m      5\u001b[0m               [['deadpool'], []]]\n\u001b[0;32m----> 6\u001b[0;31m \u001b[0mget_starts\u001b[0m\u001b[0;34m(\u001b[0m\u001b[0mtest_grades\u001b[0m\u001b[0;34m)\u001b[0m\u001b[0;34m\u001b[0m\u001b[0;34m\u001b[0m\u001b[0m\n\u001b[0m",
      "\u001b[0;32m<ipython-input-6-8d3517a7aff6>\u001b[0m in \u001b[0;36mget_starts\u001b[0;34m(class_lists)\u001b[0m\n\u001b[1;32m      5\u001b[0m     \u001b[0mnew_list\u001b[0m \u001b[0;34m=\u001b[0m \u001b[0;34m[\u001b[0m\u001b[0;34m]\u001b[0m\u001b[0;34m\u001b[0m\u001b[0;34m\u001b[0m\u001b[0m\n\u001b[1;32m      6\u001b[0m     \u001b[0;32mfor\u001b[0m \u001b[0mi\u001b[0m \u001b[0;32min\u001b[0m \u001b[0mclass_lists\u001b[0m\u001b[0;34m:\u001b[0m\u001b[0;34m\u001b[0m\u001b[0;34m\u001b[0m\u001b[0m\n\u001b[0;32m----> 7\u001b[0;31m         \u001b[0mnew_list\u001b[0m\u001b[0;34m.\u001b[0m\u001b[0mappend\u001b[0m\u001b[0;34m(\u001b[0m\u001b[0;34m[\u001b[0m\u001b[0mi\u001b[0m\u001b[0;34m[\u001b[0m\u001b[0;36m0\u001b[0m\u001b[0;34m]\u001b[0m\u001b[0;34m,\u001b[0m\u001b[0mi\u001b[0m\u001b[0;34m[\u001b[0m\u001b[0;36m1\u001b[0m\u001b[0;34m]\u001b[0m\u001b[0;34m,\u001b[0m \u001b[0mavg\u001b[0m\u001b[0;34m(\u001b[0m\u001b[0mi\u001b[0m\u001b[0;34m[\u001b[0m\u001b[0;36m1\u001b[0m\u001b[0;34m]\u001b[0m\u001b[0;34m)\u001b[0m\u001b[0;34m]\u001b[0m\u001b[0;34m)\u001b[0m\u001b[0;34m\u001b[0m\u001b[0;34m\u001b[0m\u001b[0m\n\u001b[0m\u001b[1;32m      8\u001b[0m     \u001b[0;32mreturn\u001b[0m \u001b[0mnew_list\u001b[0m\u001b[0;34m\u001b[0m\u001b[0;34m\u001b[0m\u001b[0m\n\u001b[1;32m      9\u001b[0m \u001b[0mget_starts\u001b[0m\u001b[0;34m(\u001b[0m\u001b[0;34m[\u001b[0m\u001b[0;34m[\u001b[0m\u001b[0;34m[\u001b[0m\u001b[0;34m'peter'\u001b[0m\u001b[0;34m,\u001b[0m \u001b[0;34m'parker'\u001b[0m\u001b[0;34m]\u001b[0m\u001b[0;34m,\u001b[0m \u001b[0;34m[\u001b[0m\u001b[0;36m80.0\u001b[0m\u001b[0;34m,\u001b[0m \u001b[0;36m70.0\u001b[0m\u001b[0;34m,\u001b[0m \u001b[0;36m85.0\u001b[0m\u001b[0;34m]\u001b[0m\u001b[0;34m]\u001b[0m\u001b[0;34m,\u001b[0m \u001b[0;34m[\u001b[0m\u001b[0;34m[\u001b[0m\u001b[0;34m'bruce'\u001b[0m\u001b[0;34m,\u001b[0m \u001b[0;34m'wayne'\u001b[0m\u001b[0;34m]\u001b[0m\u001b[0;34m,\u001b[0m \u001b[0;34m[\u001b[0m\u001b[0;36m100.0\u001b[0m\u001b[0;34m,\u001b[0m \u001b[0;36m80.0\u001b[0m\u001b[0;34m,\u001b[0m \u001b[0;36m74.0\u001b[0m\u001b[0;34m]\u001b[0m\u001b[0;34m]\u001b[0m\u001b[0;34m]\u001b[0m\u001b[0;34m)\u001b[0m\u001b[0;34m\u001b[0m\u001b[0;34m\u001b[0m\u001b[0m\n",
      "\u001b[0;32m<ipython-input-6-8d3517a7aff6>\u001b[0m in \u001b[0;36mavg\u001b[0;34m(fun)\u001b[0m\n\u001b[1;32m      1\u001b[0m \u001b[0;32mdef\u001b[0m \u001b[0mavg\u001b[0m\u001b[0;34m(\u001b[0m\u001b[0mfun\u001b[0m\u001b[0;34m)\u001b[0m\u001b[0;34m:\u001b[0m        \u001b[0;31m# Function to find a average of a list\u001b[0m\u001b[0;34m\u001b[0m\u001b[0;34m\u001b[0m\u001b[0m\n\u001b[0;32m----> 2\u001b[0;31m     \u001b[0;32mreturn\u001b[0m \u001b[0msum\u001b[0m\u001b[0;34m(\u001b[0m\u001b[0mfun\u001b[0m\u001b[0;34m)\u001b[0m\u001b[0;34m/\u001b[0m\u001b[0mlen\u001b[0m\u001b[0;34m(\u001b[0m\u001b[0mfun\u001b[0m\u001b[0;34m)\u001b[0m\u001b[0;34m\u001b[0m\u001b[0;34m\u001b[0m\u001b[0m\n\u001b[0m\u001b[1;32m      3\u001b[0m \u001b[0;34m\u001b[0m\u001b[0m\n\u001b[1;32m      4\u001b[0m \u001b[0;32mdef\u001b[0m \u001b[0mget_starts\u001b[0m\u001b[0;34m(\u001b[0m\u001b[0mclass_lists\u001b[0m\u001b[0;34m)\u001b[0m\u001b[0;34m:\u001b[0m\u001b[0;34m\u001b[0m\u001b[0;34m\u001b[0m\u001b[0m\n\u001b[1;32m      5\u001b[0m     \u001b[0mnew_list\u001b[0m \u001b[0;34m=\u001b[0m \u001b[0;34m[\u001b[0m\u001b[0;34m]\u001b[0m\u001b[0;34m\u001b[0m\u001b[0;34m\u001b[0m\u001b[0m\n",
      "\u001b[0;31mZeroDivisionError\u001b[0m: division by zero"
     ]
    }
   ],
   "source": [
    "# Error if no grades fpr a student\n",
    "test_grades= [[['peter', 'parker'], [10.0, 5.0, 85.0]],\n",
    "              [['bruce', 'wayne'], [10.0, 8.0, 74.0]],\n",
    "              [['captain', 'america'], [8.0,10.0,96.0]],\n",
    "              [['deadpool'], []]]\n",
    "get_starts(test_grades)"
   ]
  },
  {
   "cell_type": "code",
   "execution_count": 8,
   "metadata": {},
   "outputs": [
    {
     "data": {
      "text/plain": [
       "[[['peter', 'parker'], [80.0, 70.0, 85.0], 78.33333333333333],\n",
       " [['bruce', 'wayne'], [100.0, 80.0, 74.0], 84.66666666666667]]"
      ]
     },
     "execution_count": 8,
     "metadata": {},
     "output_type": "execute_result"
    }
   ],
   "source": [
    "def avg(fun): # Function to find a average of a list\n",
    "    try:\n",
    "        return sum(fun)/len(fun)\n",
    "    except ZeroDivisionError:\n",
    "        print('warning: no grades data')\n",
    "        \n",
    "\n",
    "def get_starts(class_lists):\n",
    "    new_list = []\n",
    "    for i in class_lists:\n",
    "        new_list.append([i[0],i[1], avg(i[1])])\n",
    "    return new_list\n",
    "get_starts([[['peter', 'parker'], [80.0, 70.0, 85.0]], [['bruce', 'wayne'], [100.0, 80.0, 74.0]]])"
   ]
  },
  {
   "cell_type": "markdown",
   "metadata": {},
   "source": [
    "If there is no no grades value for a student. The **except** function returns **None.**"
   ]
  },
  {
   "cell_type": "code",
   "execution_count": 9,
   "metadata": {},
   "outputs": [
    {
     "name": "stdout",
     "output_type": "stream",
     "text": [
      "warning: no grades data\n"
     ]
    },
    {
     "data": {
      "text/plain": [
       "[[['peter', 'parker'], [10.0, 5.0, 85.0], 33.333333333333336],\n",
       " [['bruce', 'wayne'], [10.0, 8.0, 74.0], 30.666666666666668],\n",
       " [['captain', 'america'], [8.0, 10.0, 96.0], 38.0],\n",
       " [['deadpool'], [], None]]"
      ]
     },
     "execution_count": 9,
     "metadata": {},
     "output_type": "execute_result"
    }
   ],
   "source": [
    "# Error if no grades for a student\n",
    "test_grades= [[['peter', 'parker'], [10.0, 5.0, 85.0]],\n",
    "              [['bruce', 'wayne'], [10.0, 8.0, 74.0]],\n",
    "              [['captain', 'america'], [8.0,10.0,96.0]],\n",
    "              [['deadpool'], []]]\n",
    "get_starts(test_grades)"
   ]
  },
  {
   "cell_type": "code",
   "execution_count": 10,
   "metadata": {},
   "outputs": [
    {
     "name": "stdout",
     "output_type": "stream",
     "text": [
      "warning: no grades data\n"
     ]
    },
    {
     "data": {
      "text/plain": [
       "[[['peter', 'parker'], [80.0, 70.0, 85.0], 78.33333333333333],\n",
       " [['bruce', 'wayne'], [100.0, 80.0, 74.0], 84.66666666666667],\n",
       " [['deadpool'], [], 0.0]]"
      ]
     },
     "execution_count": 10,
     "metadata": {},
     "output_type": "execute_result"
    }
   ],
   "source": [
    "# IF we want to return a 0.0 when there is no grade to a perticuar student.\n",
    "\n",
    "def avg(fun): # Function to find a average of a list\n",
    "    try:\n",
    "        return sum(fun)/len(fun)\n",
    "    except ZeroDivisionError:\n",
    "        print('warning: no grades data')\n",
    "        return 0.0\n",
    "        \n",
    "\n",
    "def get_starts(class_lists):\n",
    "    new_list = []\n",
    "    for i in class_lists:\n",
    "        new_list.append([i[0],i[1], avg(i[1])])\n",
    "    return new_list\n",
    "get_starts([[['peter', 'parker'], [80.0, 70.0, 85.0]], \n",
    "            [['bruce', 'wayne'], [100.0, 80.0, 74.0]], [['deadpool'], []]])"
   ]
  },
  {
   "cell_type": "code",
   "execution_count": 11,
   "metadata": {},
   "outputs": [
    {
     "name": "stdout",
     "output_type": "stream",
     "text": [
      "warning: no grades data\n"
     ]
    },
    {
     "data": {
      "text/plain": [
       "[[['peter', 'parker'], [10.0, 5.0, 85.0], 33.333333333333336],\n",
       " [['bruce', 'wayne'], [10.0, 8.0, 74.0], 30.666666666666668],\n",
       " [['captain', 'america'], [8.0, 10.0, 96.0], 38.0],\n",
       " [['deadpool'], [], 0.0]]"
      ]
     },
     "execution_count": 11,
     "metadata": {},
     "output_type": "execute_result"
    }
   ],
   "source": [
    "# Error if no grades for a student\n",
    "test_grades= [[['peter', 'parker'], [10.0, 5.0, 85.0]],\n",
    "              [['bruce', 'wayne'], [10.0, 8.0, 74.0]],\n",
    "              [['captain', 'america'], [8.0,10.0,96.0]],\n",
    "              [['deadpool'], []]]\n",
    "get_starts(test_grades)"
   ]
  },
  {
   "cell_type": "markdown",
   "metadata": {},
   "source": [
    "## Assertions \n",
    "* It's a good example of defensive programming"
   ]
  },
  {
   "cell_type": "code",
   "execution_count": 12,
   "metadata": {},
   "outputs": [],
   "source": [
    "def avg(grades):\n",
    "    assert len(grades) == 0, 'no grades data'\n",
    "    return sum(grades)/len(grades)\n",
    "\n",
    "def get_starts(class_lists):\n",
    "    new_list = []\n",
    "    for i in class_lists:\n",
    "        new_list.append([i[0],i[1], avg(i[1])])\n",
    "    return new_list"
   ]
  },
  {
   "cell_type": "code",
   "execution_count": 13,
   "metadata": {},
   "outputs": [
    {
     "ename": "AssertionError",
     "evalue": "no grades data",
     "output_type": "error",
     "traceback": [
      "\u001b[0;31m---------------------------------------------------------------------------\u001b[0m",
      "\u001b[0;31mAssertionError\u001b[0m                            Traceback (most recent call last)",
      "\u001b[0;32m<ipython-input-13-b74062d7d399>\u001b[0m in \u001b[0;36m<module>\u001b[0;34m\u001b[0m\n\u001b[1;32m      4\u001b[0m               \u001b[0;34m[\u001b[0m\u001b[0;34m[\u001b[0m\u001b[0;34m'captain'\u001b[0m\u001b[0;34m,\u001b[0m \u001b[0;34m'america'\u001b[0m\u001b[0;34m]\u001b[0m\u001b[0;34m,\u001b[0m \u001b[0;34m[\u001b[0m\u001b[0;36m8.0\u001b[0m\u001b[0;34m,\u001b[0m\u001b[0;36m10.0\u001b[0m\u001b[0;34m,\u001b[0m\u001b[0;36m96.0\u001b[0m\u001b[0;34m]\u001b[0m\u001b[0;34m]\u001b[0m\u001b[0;34m,\u001b[0m\u001b[0;34m\u001b[0m\u001b[0;34m\u001b[0m\u001b[0m\n\u001b[1;32m      5\u001b[0m               [['deadpool'], []]]\n\u001b[0;32m----> 6\u001b[0;31m \u001b[0mget_starts\u001b[0m\u001b[0;34m(\u001b[0m\u001b[0mtest_grades\u001b[0m\u001b[0;34m)\u001b[0m\u001b[0;34m\u001b[0m\u001b[0;34m\u001b[0m\u001b[0m\n\u001b[0m",
      "\u001b[0;32m<ipython-input-12-d2e7b49dd3e9>\u001b[0m in \u001b[0;36mget_starts\u001b[0;34m(class_lists)\u001b[0m\n\u001b[1;32m      6\u001b[0m     \u001b[0mnew_list\u001b[0m \u001b[0;34m=\u001b[0m \u001b[0;34m[\u001b[0m\u001b[0;34m]\u001b[0m\u001b[0;34m\u001b[0m\u001b[0;34m\u001b[0m\u001b[0m\n\u001b[1;32m      7\u001b[0m     \u001b[0;32mfor\u001b[0m \u001b[0mi\u001b[0m \u001b[0;32min\u001b[0m \u001b[0mclass_lists\u001b[0m\u001b[0;34m:\u001b[0m\u001b[0;34m\u001b[0m\u001b[0;34m\u001b[0m\u001b[0m\n\u001b[0;32m----> 8\u001b[0;31m         \u001b[0mnew_list\u001b[0m\u001b[0;34m.\u001b[0m\u001b[0mappend\u001b[0m\u001b[0;34m(\u001b[0m\u001b[0;34m[\u001b[0m\u001b[0mi\u001b[0m\u001b[0;34m[\u001b[0m\u001b[0;36m0\u001b[0m\u001b[0;34m]\u001b[0m\u001b[0;34m,\u001b[0m\u001b[0mi\u001b[0m\u001b[0;34m[\u001b[0m\u001b[0;36m1\u001b[0m\u001b[0;34m]\u001b[0m\u001b[0;34m,\u001b[0m \u001b[0mavg\u001b[0m\u001b[0;34m(\u001b[0m\u001b[0mi\u001b[0m\u001b[0;34m[\u001b[0m\u001b[0;36m1\u001b[0m\u001b[0;34m]\u001b[0m\u001b[0;34m)\u001b[0m\u001b[0;34m]\u001b[0m\u001b[0;34m)\u001b[0m\u001b[0;34m\u001b[0m\u001b[0;34m\u001b[0m\u001b[0m\n\u001b[0m\u001b[1;32m      9\u001b[0m     \u001b[0;32mreturn\u001b[0m \u001b[0mnew_list\u001b[0m\u001b[0;34m\u001b[0m\u001b[0;34m\u001b[0m\u001b[0m\n",
      "\u001b[0;32m<ipython-input-12-d2e7b49dd3e9>\u001b[0m in \u001b[0;36mavg\u001b[0;34m(grades)\u001b[0m\n\u001b[1;32m      1\u001b[0m \u001b[0;32mdef\u001b[0m \u001b[0mavg\u001b[0m\u001b[0;34m(\u001b[0m\u001b[0mgrades\u001b[0m\u001b[0;34m)\u001b[0m\u001b[0;34m:\u001b[0m\u001b[0;34m\u001b[0m\u001b[0;34m\u001b[0m\u001b[0m\n\u001b[0;32m----> 2\u001b[0;31m     \u001b[0;32massert\u001b[0m \u001b[0mlen\u001b[0m\u001b[0;34m(\u001b[0m\u001b[0mgrades\u001b[0m\u001b[0;34m)\u001b[0m \u001b[0;34m==\u001b[0m \u001b[0;36m0\u001b[0m\u001b[0;34m,\u001b[0m \u001b[0;34m'no grades data'\u001b[0m\u001b[0;34m\u001b[0m\u001b[0;34m\u001b[0m\u001b[0m\n\u001b[0m\u001b[1;32m      3\u001b[0m     \u001b[0;32mreturn\u001b[0m \u001b[0msum\u001b[0m\u001b[0;34m(\u001b[0m\u001b[0mgrades\u001b[0m\u001b[0;34m)\u001b[0m\u001b[0;34m/\u001b[0m\u001b[0mlen\u001b[0m\u001b[0;34m(\u001b[0m\u001b[0mgrades\u001b[0m\u001b[0;34m)\u001b[0m\u001b[0;34m\u001b[0m\u001b[0;34m\u001b[0m\u001b[0m\n\u001b[1;32m      4\u001b[0m \u001b[0;34m\u001b[0m\u001b[0m\n\u001b[1;32m      5\u001b[0m \u001b[0;32mdef\u001b[0m \u001b[0mget_starts\u001b[0m\u001b[0;34m(\u001b[0m\u001b[0mclass_lists\u001b[0m\u001b[0;34m)\u001b[0m\u001b[0;34m:\u001b[0m\u001b[0;34m\u001b[0m\u001b[0;34m\u001b[0m\u001b[0m\n",
      "\u001b[0;31mAssertionError\u001b[0m: no grades data"
     ]
    }
   ],
   "source": [
    "# Error if no grades for a student\n",
    "test_grades= [[['peter', 'parker'], [10.0, 5.0, 85.0]],\n",
    "              [['bruce', 'wayne'], [10.0, 8.0, 74.0]],\n",
    "              [['captain', 'america'], [8.0,10.0,96.0]],\n",
    "              [['deadpool'], []]]\n",
    "get_starts(test_grades)"
   ]
  }
 ],
 "metadata": {
  "kernelspec": {
   "display_name": "Python 3",
   "language": "python",
   "name": "python3"
  },
  "language_info": {
   "codemirror_mode": {
    "name": "ipython",
    "version": 3
   },
   "file_extension": ".py",
   "mimetype": "text/x-python",
   "name": "python",
   "nbconvert_exporter": "python",
   "pygments_lexer": "ipython3",
   "version": "3.7.6"
  }
 },
 "nbformat": 4,
 "nbformat_minor": 4
}
