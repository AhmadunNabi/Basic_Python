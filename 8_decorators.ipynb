{
 "cells": [
  {
   "cell_type": "code",
   "execution_count": 1,
   "metadata": {},
   "outputs": [],
   "source": [
    "def outer_fun():\n",
    "    massage = \"What's up\"\n",
    "    def inner_fun():\n",
    "        print(massage)  # massage isn't created in inner function but have access.\n",
    "    return inner_fun()  "
   ]
  },
  {
   "cell_type": "code",
   "execution_count": 2,
   "metadata": {},
   "outputs": [
    {
     "name": "stdout",
     "output_type": "stream",
     "text": [
      "What's up\n"
     ]
    }
   ],
   "source": [
    "outer_fun()"
   ]
  },
  {
   "cell_type": "code",
   "execution_count": 3,
   "metadata": {},
   "outputs": [
    {
     "name": "stdout",
     "output_type": "stream",
     "text": [
      "What's up\n"
     ]
    }
   ],
   "source": [
    "# Inner function waiting for execution\n",
    "def outer_fun():\n",
    "    massage = \"What's up\"\n",
    "    def inner_fun():\n",
    "        print(massage)\n",
    "    return inner_fun\n",
    "fun = outer_fun()\n",
    "fun()"
   ]
  },
  {
   "cell_type": "code",
   "execution_count": 4,
   "metadata": {},
   "outputs": [
    {
     "name": "stdout",
     "output_type": "stream",
     "text": [
      "Hi\n"
     ]
    }
   ],
   "source": [
    "# Add argument to outer function\n",
    "def outer_fun(msg):\n",
    "    massage = msg\n",
    "    def inner_fun():\n",
    "        print(massage)\n",
    "    return inner_fun\n",
    "hi_fun = outer_fun('Hi')      \n",
    "bye_fun = outer_fun('bye')\n",
    "# hi_fun, bye_fun variables is equal to our inner function is ready to be executed\n",
    "\n",
    "# to execute\n",
    "hi_fun()"
   ]
  },
  {
   "cell_type": "code",
   "execution_count": 5,
   "metadata": {},
   "outputs": [
    {
     "name": "stdout",
     "output_type": "stream",
     "text": [
      "Hi\n",
      "bye\n"
     ]
    }
   ],
   "source": [
    "def outer_fun(msg):\n",
    "    def inner_fun():\n",
    "        return msg\n",
    "    return inner_fun\n",
    "hi_fun = outer_fun('Hi')      \n",
    "bye_fun = outer_fun('bye')\n",
    "\n",
    "print(hi_fun())\n",
    "print(bye_fun())"
   ]
  },
  {
   "cell_type": "markdown",
   "metadata": {},
   "source": [
    "### Decorator\n",
    "**Decorator** is just a function that takes another function as an argument, adds some kind of functionality and returns another function, all of this without altering the source code of original functon."
   ]
  },
  {
   "cell_type": "code",
   "execution_count": 6,
   "metadata": {},
   "outputs": [
    {
     "data": {
      "text/plain": [
       "\"Nothing's up\""
      ]
     },
     "execution_count": 6,
     "metadata": {},
     "output_type": "execute_result"
    }
   ],
   "source": [
    "def decorator_fun(original_fun):\n",
    "    \n",
    "    def wrapper_fun():\n",
    "        return original_fun()\n",
    "    \n",
    "    return wrapper_fun\n",
    "\n",
    "def display():\n",
    "    return \"Nothing's up\"\n",
    "\n",
    "decorator_fun = decorator_fun(display)\n",
    "decorator_fun()"
   ]
  },
  {
   "cell_type": "code",
   "execution_count": 7,
   "metadata": {},
   "outputs": [
    {
     "name": "stdout",
     "output_type": "stream",
     "text": [
      "Wrapper execution before nothing\n"
     ]
    },
    {
     "data": {
      "text/plain": [
       "'Nothing to display'"
      ]
     },
     "execution_count": 7,
     "metadata": {},
     "output_type": "execute_result"
    }
   ],
   "source": [
    "## Add some functionality to wrapper function\n",
    "def decorator_fun(original_fun):\n",
    "    \n",
    "    def wrapper_fun():\n",
    "        print('Wrapper execution before {}'.format(original_fun.__name__))\n",
    "        return original_fun()\n",
    "    return wrapper_fun\n",
    "\n",
    "def nothing():\n",
    "    return 'Nothing to display'\n",
    "\n",
    "d = decorator_fun(nothing)\n",
    "\n",
    "d()"
   ]
  },
  {
   "cell_type": "code",
   "execution_count": 8,
   "metadata": {},
   "outputs": [
    {
     "data": {
      "text/plain": [
       "'Nothing to display'"
      ]
     },
     "execution_count": 8,
     "metadata": {},
     "output_type": "execute_result"
    }
   ],
   "source": [
    "def decorator_fun(original_fun):\n",
    "    \n",
    "    def wrapper_fun():\n",
    "        print('Wrapper execution before {}'.format(original_fun.__name__))\n",
    "        return original_fun()\n",
    "    return wrapper_fun\n",
    "\n",
    "def nothing():\n",
    "    return 'Nothing to display'\n",
    "\n",
    "nothing()"
   ]
  },
  {
   "cell_type": "code",
   "execution_count": 9,
   "metadata": {},
   "outputs": [
    {
     "name": "stdout",
     "output_type": "stream",
     "text": [
      "Wrapper execution before nothing\n"
     ]
    },
    {
     "data": {
      "text/plain": [
       "'Nothing to display'"
      ]
     },
     "execution_count": 9,
     "metadata": {},
     "output_type": "execute_result"
    }
   ],
   "source": [
    "def decorator_fun(original_fun):\n",
    "    \n",
    "    def wrapper_fun():\n",
    "        print('Wrapper execution before {}'.format(original_fun.__name__))\n",
    "        return original_fun()\n",
    "    return wrapper_fun\n",
    "\n",
    "@decorator_fun              #This means, nothing = decorator_fun(nothing)\n",
    "def nothing():\n",
    "    return 'Nothing to display'\n",
    "\n",
    "nothing()"
   ]
  },
  {
   "cell_type": "code",
   "execution_count": 10,
   "metadata": {},
   "outputs": [
    {
     "ename": "TypeError",
     "evalue": "wrapper_fun() takes 0 positional arguments but 2 were given",
     "output_type": "error",
     "traceback": [
      "\u001b[0;31m---------------------------------------------------------------------------\u001b[0m",
      "\u001b[0;31mTypeError\u001b[0m                                 Traceback (most recent call last)",
      "\u001b[0;32m<ipython-input-10-190283dadd08>\u001b[0m in \u001b[0;36m<module>\u001b[0;34m\u001b[0m\n\u001b[1;32m     15\u001b[0m     \u001b[0;32mreturn\u001b[0m \u001b[0;34m'The name & age is: {}, {}'\u001b[0m\u001b[0;34m.\u001b[0m\u001b[0mformat\u001b[0m\u001b[0;34m(\u001b[0m\u001b[0mname\u001b[0m\u001b[0;34m,\u001b[0m\u001b[0mage\u001b[0m\u001b[0;34m)\u001b[0m\u001b[0;34m\u001b[0m\u001b[0;34m\u001b[0m\u001b[0m\n\u001b[1;32m     16\u001b[0m \u001b[0;34m\u001b[0m\u001b[0m\n\u001b[0;32m---> 17\u001b[0;31m \u001b[0minfo\u001b[0m\u001b[0;34m(\u001b[0m\u001b[0;34m'r'\u001b[0m\u001b[0;34m,\u001b[0m\u001b[0;36m24\u001b[0m\u001b[0;34m)\u001b[0m\u001b[0;34m\u001b[0m\u001b[0;34m\u001b[0m\u001b[0m\n\u001b[0m",
      "\u001b[0;31mTypeError\u001b[0m: wrapper_fun() takes 0 positional arguments but 2 were given"
     ]
    }
   ],
   "source": [
    "# Decorate nothing and info function with same decorator\n",
    "def decorator_fun(original_fun):\n",
    "    \n",
    "    def wrapper_fun():\n",
    "        print('Wrapper execution before {}'.format(original_fun.__name__))\n",
    "        return original_fun()\n",
    "    return wrapper_fun\n",
    "\n",
    "@decorator_fun         #nothing = decorator_fun(nothing)\n",
    "def nothing():\n",
    "    return 'Nothing to display'\n",
    "\n",
    "@decorator_fun         #info = decorator_fun(info = ('r',24))\n",
    "def info(name, age):\n",
    "    return 'The name & age is: {}, {}'.format(name,age)\n",
    "\n",
    "info('r',24)"
   ]
  },
  {
   "cell_type": "markdown",
   "metadata": {},
   "source": [
    "So, we need to pass any number of positional or keyword arguments to our wrapper funtion. We can do this by **adding * args, ** kwargs** to our wrapper function."
   ]
  },
  {
   "cell_type": "code",
   "execution_count": 11,
   "metadata": {},
   "outputs": [
    {
     "name": "stdout",
     "output_type": "stream",
     "text": [
      "Wrapper execution before info\n"
     ]
    },
    {
     "data": {
      "text/plain": [
       "'The name & age is: r, 24'"
      ]
     },
     "execution_count": 11,
     "metadata": {},
     "output_type": "execute_result"
    }
   ],
   "source": [
    "# Decorate nothing and info function with same decorator\n",
    "def decorator_fun(original_fun):\n",
    "    \n",
    "    def wrapper_fun(*args,**kwargs):\n",
    "        print('Wrapper execution before {}'.format(original_fun.__name__))\n",
    "        return original_fun(*args,**kwargs)\n",
    "    return wrapper_fun\n",
    "\n",
    "@decorator_fun\n",
    "def nothing():\n",
    "    return 'Nothing to display'\n",
    "\n",
    "@decorator_fun           #info = decorator_fun(info)    \n",
    "def info(name, age):\n",
    "    return 'The name & age is: {}, {}'.format(name,age)\n",
    "\n",
    "# info = decorator_fun(info)\n",
    "info('r',24)"
   ]
  },
  {
   "cell_type": "markdown",
   "metadata": {},
   "source": [
    "### Classes as decorator"
   ]
  },
  {
   "cell_type": "code",
   "execution_count": 14,
   "metadata": {},
   "outputs": [
    {
     "ename": "SyntaxError",
     "evalue": "invalid syntax (<ipython-input-14-dd8c56eb1385>, line 4)",
     "output_type": "error",
     "traceback": [
      "\u001b[0;36m  File \u001b[0;32m\"<ipython-input-14-dd8c56eb1385>\"\u001b[0;36m, line \u001b[0;32m4\u001b[0m\n\u001b[0;31m    def __call__(self, *args, *kwargs):\u001b[0m\n\u001b[0m                              ^\u001b[0m\n\u001b[0;31mSyntaxError\u001b[0m\u001b[0;31m:\u001b[0m invalid syntax\n"
     ]
    }
   ],
   "source": [
    "class decorator(object):\n",
    "    def __init__(self, original_fun):\n",
    "        self.original_fun = original_fun  #tie function with the instance of the class\n",
    "    def __call__(self, *args, *kwargs):\n",
    "        print('Call method execution before {}'.format(original_fun.__name__))\n",
    "        return original_fun(*args,*kwargs)"
   ]
  },
  {
   "cell_type": "code",
   "execution_count": null,
   "metadata": {},
   "outputs": [],
   "source": []
  }
 ],
 "metadata": {
  "kernelspec": {
   "display_name": "Python 3",
   "language": "python",
   "name": "python3"
  },
  "language_info": {
   "codemirror_mode": {
    "name": "ipython",
    "version": 3
   },
   "file_extension": ".py",
   "mimetype": "text/x-python",
   "name": "python",
   "nbconvert_exporter": "python",
   "pygments_lexer": "ipython3",
   "version": "3.7.6"
  }
 },
 "nbformat": 4,
 "nbformat_minor": 4
}
