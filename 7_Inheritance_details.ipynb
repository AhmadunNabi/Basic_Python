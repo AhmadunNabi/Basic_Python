{
 "cells": [
  {
   "cell_type": "markdown",
   "metadata": {},
   "source": [
    "# Make Clear concept about inheritance \n",
    "### Class and Instances of the Class:"
   ]
  },
  {
   "cell_type": "code",
   "execution_count": 1,
   "metadata": {},
   "outputs": [
    {
     "name": "stdout",
     "output_type": "stream",
     "text": [
      "<__main__.employee object at 0x7fbefbfa7050>\n"
     ]
    }
   ],
   "source": [
    "class employee:\n",
    "    pass #Means you want to pass the class\n",
    "h= employee()\n",
    "print(h)"
   ]
  },
  {
   "cell_type": "code",
   "execution_count": 2,
   "metadata": {},
   "outputs": [
    {
     "name": "stdout",
     "output_type": "stream",
     "text": [
      "Rifat.Karim@gmail.com\n",
      "Karim\n",
      "Rifat Karim\n"
     ]
    }
   ],
   "source": [
    "class employee:\n",
    "    def __init__(self, fname, lname, income):\n",
    "        #Initialize and instance self. After self we can specify what other arguments we want to accept\n",
    "        #Set instance variable\n",
    "        self.fname = fname\n",
    "        self.lname = lname\n",
    "        self.income = income\n",
    "        self.email = fname+'.'+lname+'@'+'gmail.com'\n",
    "        \n",
    "emply1 = employee('Rifat','Karim',5000)\n",
    "print(emply1.email)\n",
    "print(emply1.lname)\n",
    "# To get full name\n",
    "print('{} {}'.format(emply1.fname,emply1.lname))"
   ]
  },
  {
   "cell_type": "code",
   "execution_count": 3,
   "metadata": {},
   "outputs": [
    {
     "name": "stdout",
     "output_type": "stream",
     "text": [
      "Rifat.Karim@gmail.com\n",
      "Karim\n",
      "Rifat Karim\n"
     ]
    }
   ],
   "source": [
    "class employee:\n",
    "    def __init__(self, fname, lname, income):\n",
    "        self.fname = fname\n",
    "        self.lname = lname\n",
    "        self.income = income\n",
    "        self.email = fname+'.'+lname+'@'+'gmail.com'\n",
    "    def fullname(self):      # Each method within a class automatically takes the instance as the first argument\n",
    "        return '{} {}'.format(self.fname, self.lname)\n",
    "        \n",
    "emply1 = employee('Rifat','Karim',5000)\n",
    "print(emply1.email)\n",
    "print(emply1.lname)\n",
    "# To get full name\n",
    "print(emply1.fullname())"
   ]
  },
  {
   "cell_type": "code",
   "execution_count": 4,
   "metadata": {},
   "outputs": [
    {
     "name": "stdout",
     "output_type": "stream",
     "text": [
      "Rifat Karim\n",
      "Rifat Karim\n"
     ]
    }
   ],
   "source": [
    "print(emply1.fullname())\n",
    "print(employee.fullname(emply1))"
   ]
  },
  {
   "cell_type": "markdown",
   "metadata": {},
   "source": [
    "This two lines here do the exact same thing. But when I do **emply1.fullname()** which is an instance **emply1** and I don't need to pass in self. It does it autometically. When we call the method **employee** on the class, it does not know what instance that we want to run that method with so we do have to pass in the instance and that gets pass in as **self**."
   ]
  },
  {
   "cell_type": "markdown",
   "metadata": {},
   "source": [
    "### Class Variables"
   ]
  },
  {
   "cell_type": "code",
   "execution_count": 5,
   "metadata": {},
   "outputs": [
    {
     "name": "stdout",
     "output_type": "stream",
     "text": [
      "5000\n",
      "5200\n",
      "1.04\n",
      "1.04\n"
     ]
    }
   ],
   "source": [
    "class employee:\n",
    "    \n",
    "    raise_amount = 1.04   # Class variable\n",
    "    \n",
    "    def __init__(self, fname, lname, income):\n",
    "        self.fname = fname\n",
    "        self.lname = lname\n",
    "        self.income = income\n",
    "        self.email = fname+'.'+lname+'@'+'gmail.com'\n",
    "        \n",
    "    def fullname(self):     \n",
    "        return '{} {}'.format(self.fname, self.lname)\n",
    "    \n",
    "    def apply_raise(self):\n",
    "        self.income = int(self.income* employee.raise_amount) #or, self.raise_amount \n",
    "        \n",
    "emply1 = employee('Rifat','Karim',5000)\n",
    "emply2 = employee('Md','Sahin',6000)\n",
    "\n",
    "print(emply1.income)\n",
    "\n",
    "emply1.apply_raise()\n",
    "print(emply1.income)\n",
    "\n",
    "# We can axcess the class variable both from class and instances\n",
    "print(employee.raise_amount)\n",
    "print(emply1.raise_amount)"
   ]
  },
  {
   "cell_type": "code",
   "execution_count": 6,
   "metadata": {},
   "outputs": [
    {
     "name": "stdout",
     "output_type": "stream",
     "text": [
      "{'fname': 'Rifat', 'lname': 'Karim', 'income': 5200, 'email': 'Rifat.Karim@gmail.com'}\n"
     ]
    }
   ],
   "source": [
    "# Access for emply1\n",
    "print(emply1.__dict__)"
   ]
  },
  {
   "cell_type": "code",
   "execution_count": 7,
   "metadata": {},
   "outputs": [
    {
     "name": "stdout",
     "output_type": "stream",
     "text": [
      "1.04\n",
      "1.04\n",
      "1.04\n"
     ]
    }
   ],
   "source": [
    "# Interesting\n",
    "print(employee.raise_amount)\n",
    "print(emply1.raise_amount)\n",
    "print(emply2.raise_amount)"
   ]
  },
  {
   "cell_type": "code",
   "execution_count": 8,
   "metadata": {},
   "outputs": [
    {
     "name": "stdout",
     "output_type": "stream",
     "text": [
      "1.05\n",
      "1.05\n",
      "1.05\n"
     ]
    }
   ],
   "source": [
    "employee.raise_amount = 1.05\n",
    "print(employee.raise_amount)\n",
    "print(emply1.raise_amount)\n",
    "print(emply2.raise_amount)"
   ]
  },
  {
   "cell_type": "code",
   "execution_count": 9,
   "metadata": {},
   "outputs": [
    {
     "name": "stdout",
     "output_type": "stream",
     "text": [
      "{'fname': 'Rifat', 'lname': 'Karim', 'income': 5200, 'email': 'Rifat.Karim@gmail.com', 'raise_amount': 1.02}\n",
      "1.05\n",
      "1.02\n",
      "1.05\n"
     ]
    }
   ],
   "source": [
    "emply1.raise_amount = 1.02\n",
    "print(emply1.__dict__)    # Now emply1 has \n",
    "print(employee.raise_amount)\n",
    "print(emply1.raise_amount)\n",
    "print(emply2.raise_amount)"
   ]
  },
  {
   "cell_type": "markdown",
   "metadata": {},
   "source": [
    "**Number of employee**"
   ]
  },
  {
   "cell_type": "code",
   "execution_count": 10,
   "metadata": {},
   "outputs": [
    {
     "name": "stdout",
     "output_type": "stream",
     "text": [
      "0\n",
      "2\n"
     ]
    }
   ],
   "source": [
    "class employee:\n",
    "    num = 0\n",
    "    raise_amount = 1.04   # Class variable\n",
    "    \n",
    "    def __init__(self, fname, lname, income):\n",
    "        self.fname = fname\n",
    "        self.lname = lname\n",
    "        self.income = income\n",
    "        self.email = fname+'.'+lname+'@'+'gmail.com'\n",
    "        employee.num += 1\n",
    "    def fullname(self):     \n",
    "        return '{} {}'.format(self.fname, self.lname)\n",
    "    \n",
    "    def apply_raise(self):\n",
    "        self.income = int(self.income* employee.raise_amount) #or, self.raise_amount \n",
    "\n",
    "print(employee.num)\n",
    "emply1 = employee('Rifat','Karim',5000)\n",
    "emply2 = employee('Md','Sahin',6000)\n",
    "\n",
    "print(employee.num)"
   ]
  },
  {
   "cell_type": "markdown",
   "metadata": {},
   "source": [
    "### Class methods and static methods"
   ]
  },
  {
   "cell_type": "code",
   "execution_count": null,
   "metadata": {},
   "outputs": [],
   "source": []
  }
 ],
 "metadata": {
  "kernelspec": {
   "display_name": "Python 3",
   "language": "python",
   "name": "python3"
  },
  "language_info": {
   "codemirror_mode": {
    "name": "ipython",
    "version": 3
   },
   "file_extension": ".py",
   "mimetype": "text/x-python",
   "name": "python",
   "nbconvert_exporter": "python",
   "pygments_lexer": "ipython3",
   "version": "3.7.6"
  }
 },
 "nbformat": 4,
 "nbformat_minor": 4
}
