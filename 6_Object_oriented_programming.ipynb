{
 "cells": [
  {
   "cell_type": "markdown",
   "metadata": {},
   "source": [
    "# Class\n",
    "When a function definition occurs within a class definition, the defined function is called a method and is\n",
    "associated with the class. These methods are sometimes referred to as method attributes of the class. \n",
    "\n",
    "**Class** supports two kinds of operation:\n",
    "* **Instantiation** is used to create instances of the class. For example, the statement s = IntSet() creates a new object of type **IntSet.** This object is called an **instance of IntSet.**\n",
    "* **Attribute references** use dot notation to access attributes associated with the class. For example, s.member refers to the method member associated with the instance s of type IntSet."
   ]
  },
  {
   "cell_type": "code",
   "execution_count": 1,
   "metadata": {},
   "outputs": [],
   "source": [
    "class IntSet(object):\n",
    "    def __init__(self,vals):\n",
    "        self.vals = vals\n",
    "\n",
    "    def incert(self, e):\n",
    "        if e not in self.vals:\n",
    "            self.vals.append(e)\n",
    "        return self.vals\n",
    "    def member(self, e):\n",
    "        A = e in self.vals\n",
    "        return A\n",
    "    def remove(self, e):\n",
    "        try:\n",
    "            self.vals.remove(e)\n",
    "        except:\n",
    "            raise ValueError(str(e)+' is not found')\n",
    "    def __str__(self):\n",
    "        result = ''\n",
    "        for i in self.vals:\n",
    "            result = result+str(i)+','\n",
    "        return '{'+result[:-1]+'}'"
   ]
  },
  {
   "cell_type": "code",
   "execution_count": 2,
   "metadata": {},
   "outputs": [
    {
     "name": "stdout",
     "output_type": "stream",
     "text": [
      "{1,2,3,4}\n"
     ]
    }
   ],
   "source": [
    "A=IntSet([1,2])\n",
    "A.incert(3)\n",
    "A.incert(4)\n",
    "print(A)"
   ]
  },
  {
   "cell_type": "markdown",
   "metadata": {},
   "source": [
    "When **data attributes** are associated with a **class** we call them **class variables.** When they are associated with an **instance** we call them **instance variables**. Here, **vals** is an **instance variable** because for each instance of class IntSet, vals is bound to a different list.\n",
    "\n",
    "The **representation invariant** defines which values of the data attributes correspond to **valid representations** of **class instances**.\n",
    "**__str__** is another one of those special\n",
    "**__** methods. When the print command is used, the __str__ function associated\n",
    "with the object to be printed is automatically invoked. "
   ]
  },
  {
   "cell_type": "code",
   "execution_count": 3,
   "metadata": {},
   "outputs": [
    {
     "name": "stdout",
     "output_type": "stream",
     "text": [
      "3\n",
      "4\n",
      "2\n",
      "0\n"
     ]
    }
   ],
   "source": [
    "class co_ordinate(object):                     # we are creating co_ordinate object\n",
    "    def __init__(self,x,y):                    # define data atributes\n",
    "        # x, y represents how we create a co_ordinate object\n",
    "        # slef represents a perticular instences of a class\n",
    "        self.x = x                  # The x data attribute of a coordinate object. \n",
    "                                    # going to assign it to whatever was passed in.\n",
    "            \n",
    "        self.y = y                  # The y data attribute of a coordinate object. \n",
    "                                    # going to assign it to whatever was passed in.\n",
    "            \n",
    "c = co_ordinate(3,4)  # Implicitly python is going to say self is going to be this object c.\n",
    "#So, when we are creating a co_ordinate object we are passing all the variables except for self. \n",
    "print(c.x)\n",
    "print(c.y)\n",
    "\n",
    "origin = co_ordinate(2,0)\n",
    "print(origin.x) # We can access the data atribute using \".\" notation.\n",
    "print(origin.y) # print 0 because the y value for the object origin is 0."
   ]
  },
  {
   "cell_type": "markdown",
   "metadata": {},
   "source": [
    "We have defined data attributes but do not add any method to interact with data. Let's define a method for co_ordinate object."
   ]
  },
  {
   "cell_type": "code",
   "execution_count": 4,
   "metadata": {},
   "outputs": [],
   "source": [
    "class co_ordinate(object):\n",
    "    def __init__(self,x,y):                    \n",
    "        self.x = x \n",
    "        self.y = y \n",
    "    def distance(self,other):\n",
    "        dis_x = (self.x-other.x)**2\n",
    "        dis_y = (self.y-other.y)**2\n",
    "        return (dis_x+dis_y)**0.5"
   ]
  },
  {
   "cell_type": "code",
   "execution_count": 5,
   "metadata": {},
   "outputs": [
    {
     "name": "stdout",
     "output_type": "stream",
     "text": [
      "5.0\n"
     ]
    }
   ],
   "source": [
    "# Let's use our self defined class.........\n",
    "y = co_ordinate(0,0)\n",
    "z = co_ordinate(3,4)\n",
    "y.distance(z)\n",
    "# Equivalent to\n",
    "y = co_ordinate(0,0)\n",
    "z = co_ordinate(3,4)\n",
    "print(co_ordinate.distance(y, z))   # We are telling python self is y and other is z"
   ]
  },
  {
   "cell_type": "code",
   "execution_count": 6,
   "metadata": {},
   "outputs": [
    {
     "name": "stdout",
     "output_type": "stream",
     "text": [
      "<__main__.co_ordinate object at 0x7f3390513510>\n"
     ]
    }
   ],
   "source": [
    "print(y)  "
   ]
  },
  {
   "cell_type": "code",
   "execution_count": 7,
   "metadata": {},
   "outputs": [],
   "source": [
    "class co_ordinate(object):\n",
    "    def __init__(self,x,y):                    \n",
    "        self.x = x \n",
    "        self.y = y \n",
    "    def distance(self,other):\n",
    "        dis_x = (self.x-other.x)**2\n",
    "        dis_y = (self.y-other.y)**2\n",
    "        return (dis_x+dis_y)**0.5\n",
    "    def __str__(self):\n",
    "        return \"(\"+str(self.x)+\",\"+str(self.y)+\")\""
   ]
  },
  {
   "cell_type": "code",
   "execution_count": 8,
   "metadata": {},
   "outputs": [
    {
     "name": "stdout",
     "output_type": "stream",
     "text": [
      "<__main__.co_ordinate object at 0x7f3390513510>\n"
     ]
    }
   ],
   "source": [
    "print(y)"
   ]
  },
  {
   "cell_type": "code",
   "execution_count": 9,
   "metadata": {},
   "outputs": [
    {
     "name": "stdout",
     "output_type": "stream",
     "text": [
      "(3,4)\n",
      "<class '__main__.co_ordinate'>\n",
      "<class 'type'>\n"
     ]
    }
   ],
   "source": [
    "c = co_ordinate(3,4)\n",
    "print(c)\n",
    "print(type(c))  # c is going to be an object that is of type class co_ordinate\n",
    "print(type(co_ordinate))"
   ]
  },
  {
   "cell_type": "code",
   "execution_count": 10,
   "metadata": {},
   "outputs": [
    {
     "data": {
      "text/plain": [
       "True"
      ]
     },
     "execution_count": 10,
     "metadata": {},
     "output_type": "execute_result"
    }
   ],
   "source": [
    "# isinstance() to check if an object is a co_ordinate\n",
    "isinstance(c, co_ordinate)"
   ]
  },
  {
   "cell_type": "markdown",
   "metadata": {},
   "source": [
    "### Special operators\n",
    "* __ add __ (self, other)-- self + other\n",
    "* __ sub __ (self, other)-- self - other\n",
    "* __ eq __ (self, other)-- self == other\n",
    "* __ lt __ (self, other)-- self < other\n",
    "* __ len __ (self)-- len(self)\n",
    "* __ str __ (self)-- print\n",
    "\n",
    "Here, find more: https://docs.python.org/3/reference/datamodel.html#basic-customization"
   ]
  },
  {
   "cell_type": "code",
   "execution_count": 11,
   "metadata": {},
   "outputs": [],
   "source": [
    "### Class to represent fraction\n",
    "class fraction(object):\n",
    "    \n",
    "    def __init__(self,num,denom):\n",
    "        assert type(num) == int and type(denom) == int, \"djfs\"\n",
    "        self.num = num\n",
    "        self.denom = denom\n",
    "    \n",
    "    def __str__(self):\n",
    "        return \"(\"+str(self.num)+\"/\"+str(self.denom)+\")\"\n",
    "    \n",
    "    def __add__(self, other):\n",
    "        top = self.num*other.denom+self.denom*other.num\n",
    "        botom = self.denom*other.denom\n",
    "        return fraction(top,botom)\n",
    "    \n",
    "    def __sub__(self, other):\n",
    "        top = self.num*other.denom-self.denom*other.num\n",
    "        botom = self.denom*other.denom\n",
    "        return fraction(top,botom)\n",
    "        \n",
    "    def __float__(self):\n",
    "        \"\"\" Returns a float value of the fraction \"\"\"\n",
    "        return self.num/self.denom\n",
    "    def inverse(self):\n",
    "        return fraction(self.denom,self.num)"
   ]
  },
  {
   "cell_type": "code",
   "execution_count": 12,
   "metadata": {},
   "outputs": [
    {
     "name": "stdout",
     "output_type": "stream",
     "text": [
      "c:  (12/4)\n",
      "\n",
      "d: (6/3)\n",
      "\n",
      "Add c, d: (60/12)\n",
      "\n",
      "Value of adding c, d: 5.0\n",
      "\n",
      "Subtract c, d: (12/12)\n",
      "\n",
      "Float value of d: 2.0\n",
      "\n",
      "inverse c: (4/12)\n"
     ]
    }
   ],
   "source": [
    "c = fraction(12,4)\n",
    "print('c: ',c)\n",
    "\n",
    "d = fraction(6,3)\n",
    "print(\"\\nd:\",d)\n",
    "\n",
    "print(\"\\nAdd c, d:\",c.__add__(d))\n",
    "print(\"\\nValue of adding c, d:\",c.__add__(d).__float__())\n",
    "\n",
    "print(\"\\nSubtract c, d:\",c.__sub__(d))\n",
    "print(\"\\nFloat value of d:\",d.__float__())\n",
    "print(\"\\ninverse c:\",c.inverse())"
   ]
  },
  {
   "cell_type": "markdown",
   "metadata": {},
   "source": [
    "# Inheritance"
   ]
  },
  {
   "cell_type": "code",
   "execution_count": 13,
   "metadata": {},
   "outputs": [],
   "source": [
    "class A:\n",
    "    def feature1(self):\n",
    "        print('Feature 1 is working')\n",
    "    def feature2(self):\n",
    "        print('Feature 2 is working')\n",
    "\n",
    "class B:\n",
    "    def feature3(self):\n",
    "        print('Feature 3 is working')\n",
    "    def feature4(self):\n",
    "        print('Feature 4 is working')"
   ]
  },
  {
   "cell_type": "code",
   "execution_count": 14,
   "metadata": {},
   "outputs": [
    {
     "name": "stdout",
     "output_type": "stream",
     "text": [
      "Feature 1 is working\n",
      "None\n",
      "Feature 2 is working\n",
      "None\n"
     ]
    }
   ],
   "source": [
    "a1 = A()\n",
    "\n",
    "print(a1.feature1())\n",
    "print(a1.feature2())"
   ]
  },
  {
   "cell_type": "code",
   "execution_count": 15,
   "metadata": {},
   "outputs": [
    {
     "name": "stdout",
     "output_type": "stream",
     "text": [
      "Feature 3 is working\n",
      "None\n",
      "Feature 4 is working\n",
      "None\n"
     ]
    }
   ],
   "source": [
    "b1 = B()\n",
    "print(b1.feature3())\n",
    "print(b1.feature4())"
   ]
  },
  {
   "cell_type": "code",
   "execution_count": 16,
   "metadata": {},
   "outputs": [
    {
     "name": "stdout",
     "output_type": "stream",
     "text": [
      "Feature 1 is working\n",
      "None\n"
     ]
    }
   ],
   "source": [
    "# Single inheritance\n",
    "class B(A):          # B is a child class or sub-class of A. We can axcess the functions of class A.\n",
    "    def feature3(self):\n",
    "        print('Feature 3 is working')\n",
    "    def feature4(self):\n",
    "        print('Feature 4 is working')\n",
    "        \n",
    "b1 = B()\n",
    "print(b1.feature1())  # :) We can axess class A. So, if you to add any class to your another class you can\n",
    "# easily add those. Class B is inheritate all the features of A.\n",
    "# that's the beauty of inheritance"
   ]
  },
  {
   "cell_type": "code",
   "execution_count": 17,
   "metadata": {},
   "outputs": [],
   "source": [
    "class C(B):                                # It includes B. As B includes A, C also includes A. So, A is \n",
    "                                          # supper class/grant parant class and B, C are sub class or child class.\n",
    "    def feature5(self):\n",
    "        print('Feature 3 is working')\n",
    "    def feature6(self):\n",
    "        print('Feature 4 is working')"
   ]
  },
  {
   "cell_type": "code",
   "execution_count": 18,
   "metadata": {},
   "outputs": [
    {
     "name": "stdout",
     "output_type": "stream",
     "text": [
      "Feature 1 is working\n"
     ]
    }
   ],
   "source": [
    "c1 = C()\n",
    "c1.feature1()"
   ]
  },
  {
   "cell_type": "code",
   "execution_count": 19,
   "metadata": {},
   "outputs": [],
   "source": [
    "## Multilevel Inheritance\n",
    "class E:\n",
    "    def fact1(self):\n",
    "        print('Fact 1 is working')\n",
    "    def fact2(self):\n",
    "        print('Fact 2 is working')\n",
    "    \n",
    "class F:\n",
    "    def fact3(self):\n",
    "        print('Fact 3 is working')\n",
    "    def fact4(self):\n",
    "        print('Fact 4 is working')\n",
    "        \n",
    "class G(E,F):\n",
    "    def fact5(self):\n",
    "        print('Fact 5 is working')\n",
    "    def fact6(self):\n",
    "        print('Fact 6 is working')"
   ]
  },
  {
   "cell_type": "code",
   "execution_count": 20,
   "metadata": {},
   "outputs": [
    {
     "name": "stdout",
     "output_type": "stream",
     "text": [
      "Fact 1 is working\n"
     ]
    }
   ],
   "source": [
    "a = G()\n",
    "\n",
    "a.fact1()"
   ]
  },
  {
   "cell_type": "code",
   "execution_count": 21,
   "metadata": {},
   "outputs": [],
   "source": [
    "class rectangle:\n",
    "    def __init__(self,length,width):\n",
    "        self.length = length\n",
    "        self.width = width\n",
    "    def area(self):\n",
    "        return self.length*self.width\n",
    "    def perimeter(self):\n",
    "        return 2*self.length+2*self.width\n",
    "class square(rectangle):\n",
    "    def __init__(self,length):\n",
    "        super().__init__(length,length)"
   ]
  },
  {
   "cell_type": "code",
   "execution_count": 22,
   "metadata": {},
   "outputs": [
    {
     "data": {
      "text/plain": [
       "16"
      ]
     },
     "execution_count": 22,
     "metadata": {},
     "output_type": "execute_result"
    }
   ],
   "source": [
    "r = square(4)\n",
    "r.area()"
   ]
  },
  {
   "cell_type": "code",
   "execution_count": 23,
   "metadata": {},
   "outputs": [],
   "source": [
    "class Rectangle:\n",
    "    def __init__(self, length, width):\n",
    "        self.length = length\n",
    "        self.width = width\n",
    "\n",
    "    def area(self):\n",
    "        return self.length * self.width\n",
    "\n",
    "    def perimeter(self):\n",
    "        return 2 * self.length + 2 * self.width\n",
    "\n",
    "# Here we declare that the Square class inherits from the Rectangle class\n",
    "class Square(Rectangle):\n",
    "    def __init__(self, length):\n",
    "        super().__init__(length, length)\n",
    "        \n",
    "class Cube(Square):\n",
    "    def surface_area(self):\n",
    "        face_area = super(Square, self).area()\n",
    "        return face_area * 6\n",
    "\n",
    "    def volume(self):\n",
    "        face_area = super(Square, self).area()\n",
    "        return face_area * self.length"
   ]
  },
  {
   "cell_type": "code",
   "execution_count": 24,
   "metadata": {},
   "outputs": [
    {
     "data": {
      "text/plain": [
       "24"
      ]
     },
     "execution_count": 24,
     "metadata": {},
     "output_type": "execute_result"
    }
   ],
   "source": [
    "r = Cube(2)\n",
    "r.surface_area()"
   ]
  }
 ],
 "metadata": {
  "kernelspec": {
   "display_name": "Python 3",
   "language": "python",
   "name": "python3"
  },
  "language_info": {
   "codemirror_mode": {
    "name": "ipython",
    "version": 3
   },
   "file_extension": ".py",
   "mimetype": "text/x-python",
   "name": "python",
   "nbconvert_exporter": "python",
   "pygments_lexer": "ipython3",
   "version": "3.7.6"
  }
 },
 "nbformat": 4,
 "nbformat_minor": 4
}
