{
 "cells": [
  {
   "cell_type": "markdown",
   "metadata": {},
   "source": [
    "# Recursion\n",
    "* Recursion is the process of repeating items in a self-similar way. \n",
    "* we need make a easier equation. Like factorial n. n! = n*(n-1)!\n",
    "### Recursion divided into two parts:\n",
    "* **recursive step**: think how to reduce problem to a simpler/smaller version of same problem.\n",
    "* **base case**: keep reducing problem until reach a simple case that can be solved directly."
   ]
  },
  {
   "cell_type": "code",
   "execution_count": 1,
   "metadata": {},
   "outputs": [],
   "source": [
    "def fact(n):\n",
    "    if n >= 1:\n",
    "        return n*fact(n-1)    # recursive step\n",
    "    elif n == 0:\n",
    "        return 1              # base case"
   ]
  },
  {
   "cell_type": "code",
   "execution_count": 2,
   "metadata": {},
   "outputs": [
    {
     "name": "stdout",
     "output_type": "stream",
     "text": [
      "24\n",
      "1\n"
     ]
    }
   ],
   "source": [
    "print(fact(4))\n",
    "print(fact(0))"
   ]
  },
  {
   "cell_type": "markdown",
   "metadata": {},
   "source": [
    "**Explanation**\n",
    "* Suppose I enter fact(3)\n",
    "* return 3*fact(2)\n",
    "* For fact(2). It returns 2*fact(1)\n",
    "* For fact(1). It returns 1*fact(0)\n",
    "* For fact(0) matches with elif condition and return 1\n",
    "* Then sequencially gets the values to fact(1), fact(2), fact(3), fact(4)"
   ]
  },
  {
   "cell_type": "markdown",
   "metadata": {},
   "source": [
    "## Fibonacci Sequence\n",
    "**Base Case**: \n",
    "* fib(0) = 1\n",
    "* fib(1) = 1\n",
    "\n",
    "**Recursive Case**:\n",
    "* fib(n) = fib(n-2)+fib(n-1)"
   ]
  },
  {
   "cell_type": "code",
   "execution_count": 3,
   "metadata": {},
   "outputs": [
    {
     "name": "stdout",
     "output_type": "stream",
     "text": [
      "3\n",
      "2\n"
     ]
    }
   ],
   "source": [
    "n = int(input())\n",
    "num = 1\n",
    "summ = 0\n",
    "for i in range(n):\n",
    "    summ1 = summ\n",
    "    summ = summ+num\n",
    "    num = summ1\n",
    "print(summ)"
   ]
  },
  {
   "cell_type": "code",
   "execution_count": 4,
   "metadata": {},
   "outputs": [
    {
     "name": "stdout",
     "output_type": "stream",
     "text": [
      "You have entered a negative number\n"
     ]
    }
   ],
   "source": [
    "def fib(n):\n",
    "    if n>2:\n",
    "        return fib(n-2)+fib(n-1)\n",
    "    elif n<0:\n",
    "        print('You have entered a negative number')\n",
    "    else:\n",
    "        return 1\n",
    "fib(-3)"
   ]
  },
  {
   "cell_type": "code",
   "execution_count": 5,
   "metadata": {},
   "outputs": [],
   "source": [
    "# Multiple of two number.\n",
    "def mul(a,b):\n",
    "    r = 0\n",
    "    while b>0:\n",
    "        r +=a\n",
    "        b -=1\n",
    "    return r\n",
    "        \n",
    "\n",
    "def mul_r(a,b):\n",
    "    if b == 1:\n",
    "        return a\n",
    "    if b>1:\n",
    "        return a+mul_r(a,b-1)"
   ]
  },
  {
   "cell_type": "code",
   "execution_count": 6,
   "metadata": {},
   "outputs": [
    {
     "data": {
      "text/plain": [
       "12"
      ]
     },
     "execution_count": 6,
     "metadata": {},
     "output_type": "execute_result"
    }
   ],
   "source": [
    "mul_r(3,4)"
   ]
  },
  {
   "cell_type": "markdown",
   "metadata": {},
   "source": [
    "### Recursion on non numerical things"
   ]
  },
  {
   "cell_type": "code",
   "execution_count": 7,
   "metadata": {},
   "outputs": [],
   "source": [
    "def isPalindrome(s):\n",
    "\n",
    "    def toChars(s):\n",
    "        s = s.lower()\n",
    "        ans = ''\n",
    "        for c in s:\n",
    "            if c in 'abcdefghijklmnopqrstuvwxyz':\n",
    "                ans = ans + c\n",
    "        return ans\n",
    "\n",
    "    def isPal(ans):\n",
    "        if len(ans) <= 1:\n",
    "            return True\n",
    "        else:\n",
    "            return ans[0] == ans[-1] and isPal(ans[1:-1])\n",
    "\n",
    "    return isPal(toChars(s))"
   ]
  },
  {
   "cell_type": "code",
   "execution_count": 8,
   "metadata": {},
   "outputs": [
    {
     "data": {
      "text/plain": [
       "True"
      ]
     },
     "execution_count": 8,
     "metadata": {},
     "output_type": "execute_result"
    }
   ],
   "source": [
    "isPalindrome('Able was I, ere I saw Elba')"
   ]
  },
  {
   "cell_type": "markdown",
   "metadata": {},
   "source": [
    "# Dictionary\n",
    "store pairs of data\n",
    "* key\n",
    "* value"
   ]
  },
  {
   "cell_type": "code",
   "execution_count": 9,
   "metadata": {},
   "outputs": [],
   "source": [
    "# Empty dictionary\n",
    "my_dict = {}"
   ]
  },
  {
   "cell_type": "code",
   "execution_count": 17,
   "metadata": {},
   "outputs": [],
   "source": [
    "grades = {'Mashrur':3.28, 'Rifat':3.10, 'Danish':2.78}"
   ]
  },
  {
   "cell_type": "code",
   "execution_count": 18,
   "metadata": {},
   "outputs": [
    {
     "data": {
      "text/plain": [
       "{'Mashrur': 3.28, 'Rifat': 3.1, 'Danish': 2.78}"
      ]
     },
     "execution_count": 18,
     "metadata": {},
     "output_type": "execute_result"
    }
   ],
   "source": [
    "grades"
   ]
  },
  {
   "cell_type": "markdown",
   "metadata": {},
   "source": [
    "### Indexing\n",
    "* looks up the **key**\n",
    "* **returns** the value associated with the key"
   ]
  },
  {
   "cell_type": "code",
   "execution_count": 20,
   "metadata": {},
   "outputs": [
    {
     "data": {
      "text/plain": [
       "3.28"
      ]
     },
     "execution_count": 20,
     "metadata": {},
     "output_type": "execute_result"
    }
   ],
   "source": [
    "grades['Mashrur']"
   ]
  },
  {
   "cell_type": "markdown",
   "metadata": {},
   "source": [
    "### Dictionary operations"
   ]
  },
  {
   "cell_type": "code",
   "execution_count": 21,
   "metadata": {},
   "outputs": [
    {
     "data": {
      "text/plain": [
       "{'Mashrur': 3.28, 'Rifat': 3.1, 'Danish': 2.78, 'Raita': 3.43}"
      ]
     },
     "execution_count": 21,
     "metadata": {},
     "output_type": "execute_result"
    }
   ],
   "source": [
    "# Add an entry\n",
    "grades['Raita'] = 3.43\n",
    "grades"
   ]
  },
  {
   "cell_type": "code",
   "execution_count": 22,
   "metadata": {},
   "outputs": [
    {
     "name": "stdout",
     "output_type": "stream",
     "text": [
      "False\n",
      "False\n"
     ]
    }
   ],
   "source": [
    "# test if key in dictionary\n",
    "print('Pipe' in grades)\n",
    "print('Zawwad' in grades)"
   ]
  },
  {
   "cell_type": "code",
   "execution_count": 25,
   "metadata": {},
   "outputs": [
    {
     "data": {
      "text/plain": [
       "{'Rifat': 3.1, 'Danish': 2.78}"
      ]
     },
     "execution_count": 25,
     "metadata": {},
     "output_type": "execute_result"
    }
   ],
   "source": [
    "# delete entry\n",
    "grades = {'Masrur':3.28, 'Rifat':3.10, 'Danish':2.78}\n",
    "del(grades['Masrur'])\n",
    "grades"
   ]
  },
  {
   "cell_type": "markdown",
   "metadata": {},
   "source": [
    "**Dictionary operations**"
   ]
  },
  {
   "cell_type": "code",
   "execution_count": 26,
   "metadata": {},
   "outputs": [
    {
     "name": "stdout",
     "output_type": "stream",
     "text": [
      "dict_keys(['Rifat', 'Danish'])\n",
      "dict_values([3.1, 2.78])\n"
     ]
    }
   ],
   "source": [
    "# get an iterable that acts like a tuple of all keys\n",
    "print(grades.keys())\n",
    "\n",
    "# get an iterable that acts like a tuple of all values \n",
    "print(grades.values())"
   ]
  },
  {
   "cell_type": "markdown",
   "metadata": {},
   "source": [
    "### Dictionary keys and values\n",
    "* **values**\n",
    " * any type (immutable and mutable)\n",
    " * can be duplicates.\n",
    " * dictionary values can be lists, even other dictionaries!\n",
    "* **Keys**\n",
    " * must be unique.\n",
    " * immutable type (int, float, string, tuple,bool).\n",
    "   * actually need an object that is hashable, but think of as immutable as all immutable types are hashable.\n",
    " * careful with float type as a key.\n",
    "* no order to **keys** or **values!** "
   ]
  },
  {
   "cell_type": "code",
   "execution_count": 27,
   "metadata": {},
   "outputs": [],
   "source": [
    "d = {4:{1:0}, (1,3):\"twelve\", 'const':[3.14,2.7,8.44]}"
   ]
  },
  {
   "cell_type": "code",
   "execution_count": 28,
   "metadata": {},
   "outputs": [
    {
     "data": {
      "text/plain": [
       "{1: 0}"
      ]
     },
     "execution_count": 28,
     "metadata": {},
     "output_type": "execute_result"
    }
   ],
   "source": [
    "d[4]"
   ]
  },
  {
   "cell_type": "code",
   "execution_count": 29,
   "metadata": {},
   "outputs": [
    {
     "data": {
      "text/plain": [
       "0"
      ]
     },
     "execution_count": 29,
     "metadata": {},
     "output_type": "execute_result"
    }
   ],
   "source": [
    "d[4][1]"
   ]
  },
  {
   "cell_type": "code",
   "execution_count": 30,
   "metadata": {},
   "outputs": [],
   "source": [
    "# Function to analize song lyrics\n",
    "def song_fun(lyrics):\n",
    "    dictionary = {}\n",
    "    for word in lyrics:\n",
    "        if word in dictionary:\n",
    "            dictionary[word] += 1\n",
    "        else:\n",
    "            dictionary[word] = 1\n",
    "    return dictionary"
   ]
  },
  {
   "cell_type": "code",
   "execution_count": 31,
   "metadata": {},
   "outputs": [],
   "source": [
    "she_loves_you = ['she', 'loves', 'you', 'yeah', 'yeah', \n",
    "'yeah','she', 'loves', 'you', 'yeah', 'yeah', 'yeah',\n",
    "'she', 'loves', 'you', 'yeah', 'yeah', 'yeah',\n",
    "\n",
    "'you', 'think', \"you've\", 'lost', 'your', 'love',\n",
    "'well', 'i', 'saw', 'her', 'yesterday-yi-yay',\n",
    "\"it's\", 'you', \"she's\", 'thinking', 'of',\n",
    "'and', 'she', 'told', 'me', 'what', 'to', 'say-yi-yay',\n",
    "\n",
    "'she', 'says', 'she', 'loves', 'you',\n",
    "'and', 'you', 'know', 'that', \"can't\", 'be', 'bad',\n",
    "'yes', 'she', 'loves', 'you',\n",
    "'and', 'you', 'know', 'you', 'should', 'be', 'glad',\n",
    "\n",
    "'she', 'said', 'you', 'hurt', 'her', 'so',\n",
    "'she', 'almost', 'lost', 'her', 'mind',\n",
    "'and', 'now', 'she', 'says', 'she', 'knows',\n",
    "\"you're\", 'not', 'the', 'hurting', 'kind',\n",
    "\n",
    "'she', 'says', 'she', 'loves', 'you',\n",
    "'and', 'you', 'know', 'that', \"can't\", 'be', 'bad',\n",
    "'yes', 'she', 'loves', 'you',\n",
    "'and', 'you', 'know', 'you', 'should', 'be', 'glad',\n",
    "\n",
    "'oo', 'she', 'loves', 'you', 'yeah', 'yeah', 'yeah',\n",
    "'she', 'loves', 'you', 'yeah', 'yeah', 'yeah',\n",
    "'with', 'a', 'love', 'like', 'that',\n",
    "'you', 'know', 'you', 'should', 'be', 'glad',\n",
    "\n",
    "'you', 'know', \"it's\", 'up', 'to', 'you',\n",
    "'i', 'think', \"it's\", 'only', 'fair',\n",
    "'pride', 'can', 'hurt', 'you', 'too',\n",
    "'pologize', 'to', 'her',\n",
    "\n",
    "'Because', 'she', 'loves', 'you',\n",
    "'and', 'you', 'know', 'that', \"can't\", 'be', 'bad',\n",
    "'Yes', 'she', 'loves', 'you',\n",
    "'and', 'you', 'know', 'you', 'should', 'be', 'glad',\n",
    "\n",
    "'oo', 'she', 'loves', 'you', 'yeah', 'yeah', 'yeah',\n",
    "'she', 'loves', 'you', 'yeah', 'yeah', 'yeah',\n",
    "'with', 'a', 'love', 'like', 'that',\n",
    "'you', 'know', 'you', 'should', 'be', 'glad',\n",
    "'with', 'a', 'love', 'like', 'that',\n",
    "'you', 'know', 'you', 'should', 'be', 'glad',\n",
    "'with', 'a', 'love', 'like', 'that',\n",
    "'you', 'know', 'you', 'should', 'be', 'glad',\n",
    "'yeah', 'yeah', 'yeah',\n",
    "'yeah', 'yeah', 'yeah', 'yeah'\n",
    "]\n"
   ]
  },
  {
   "cell_type": "code",
   "execution_count": 32,
   "metadata": {},
   "outputs": [
    {
     "data": {
      "text/plain": [
       "{'she': 20,\n",
       " 'loves': 13,\n",
       " 'you': 36,\n",
       " 'yeah': 28,\n",
       " 'think': 2,\n",
       " \"you've\": 1,\n",
       " 'lost': 2,\n",
       " 'your': 1,\n",
       " 'love': 5,\n",
       " 'well': 1,\n",
       " 'i': 2,\n",
       " 'saw': 1,\n",
       " 'her': 4,\n",
       " 'yesterday-yi-yay': 1,\n",
       " \"it's\": 3,\n",
       " \"she's\": 1,\n",
       " 'thinking': 1,\n",
       " 'of': 1,\n",
       " 'and': 8,\n",
       " 'told': 1,\n",
       " 'me': 1,\n",
       " 'what': 1,\n",
       " 'to': 3,\n",
       " 'say-yi-yay': 1,\n",
       " 'says': 3,\n",
       " 'know': 11,\n",
       " 'that': 7,\n",
       " \"can't\": 3,\n",
       " 'be': 10,\n",
       " 'bad': 3,\n",
       " 'yes': 2,\n",
       " 'should': 7,\n",
       " 'glad': 7,\n",
       " 'said': 1,\n",
       " 'hurt': 2,\n",
       " 'so': 1,\n",
       " 'almost': 1,\n",
       " 'mind': 1,\n",
       " 'now': 1,\n",
       " 'knows': 1,\n",
       " \"you're\": 1,\n",
       " 'not': 1,\n",
       " 'the': 1,\n",
       " 'hurting': 1,\n",
       " 'kind': 1,\n",
       " 'oo': 2,\n",
       " 'with': 4,\n",
       " 'a': 4,\n",
       " 'like': 4,\n",
       " 'up': 1,\n",
       " 'only': 1,\n",
       " 'fair': 1,\n",
       " 'pride': 1,\n",
       " 'can': 1,\n",
       " 'too': 1,\n",
       " 'pologize': 1,\n",
       " 'Because': 1,\n",
       " 'Yes': 1}"
      ]
     },
     "execution_count": 32,
     "metadata": {},
     "output_type": "execute_result"
    }
   ],
   "source": [
    "song_fun(she_loves_you)"
   ]
  }
 ],
 "metadata": {
  "kernelspec": {
   "display_name": "Python 3",
   "language": "python",
   "name": "python3"
  },
  "language_info": {
   "codemirror_mode": {
    "name": "ipython",
    "version": 3
   },
   "file_extension": ".py",
   "mimetype": "text/x-python",
   "name": "python",
   "nbconvert_exporter": "python",
   "pygments_lexer": "ipython3",
   "version": "3.7.6"
  }
 },
 "nbformat": 4,
 "nbformat_minor": 4
}
